{
 "cells": [
  {
   "cell_type": "code",
   "execution_count": 137,
   "metadata": {},
   "outputs": [],
   "source": [
    "import os\n",
    "import re\n",
    "\n",
    "# 경로 설정\n",
    "# output_path = \"/home/work/hoeun/spider1/chinook_queries/\"\n",
    "output_path = \"/home/work/hoeun/spider1/gpt4_rewrite_queries/\"\n",
    "results = {}"
   ]
  },
  {
   "cell_type": "code",
   "execution_count": 138,
   "metadata": {},
   "outputs": [],
   "source": [
    "# 파일들에서 Planning Time과 Execution Time 추출 함수\n",
    "def extract_times_from_files(start=0, end=83):\n",
    "    for i in range(start, end + 1):\n",
    "        file_path = os.path.join(output_path, f\"{i}a.out\")\n",
    "        if os.path.isfile(file_path) and os.path.getsize(file_path) > 0:\n",
    "            with open(file_path, \"r\") as file:\n",
    "                content = file.read()\n",
    "                planning_time_match = re.search(r\"Planning Time: (\\d+\\.\\d+) ms\", content)\n",
    "                execution_time_match = re.search(r\"Execution Time: (\\d+\\.\\d+) ms\", content)\n",
    "\n",
    "                if planning_time_match and execution_time_match:\n",
    "                    planning_time = float(planning_time_match.group(1))\n",
    "                    execution_time = float(execution_time_match.group(1))\n",
    "                    results[i] = {\"planning_time\": planning_time, \"execution_time\": execution_time}\n",
    "        else:\n",
    "            results[i] = None\n",
    "\n",
    "    return results"
   ]
  },
  {
   "cell_type": "code",
   "execution_count": 139,
   "metadata": {},
   "outputs": [],
   "source": [
    "# 실행 및 결과 출력\n",
    "result_dict = extract_times_from_files()"
   ]
  },
  {
   "cell_type": "code",
   "execution_count": 140,
   "metadata": {},
   "outputs": [
    {
     "name": "stdout",
     "output_type": "stream",
     "text": [
      "{0: {'planning_time': 0.621, 'execution_time': 0.098}, 1: {'planning_time': 0.575, 'execution_time': 0.092}, 2: {'planning_time': 0.361, 'execution_time': 0.027}, 3: {'planning_time': 0.366, 'execution_time': 0.025}, 4: {'planning_time': 0.976, 'execution_time': 0.036}, 5: {'planning_time': 0.596, 'execution_time': 0.037}, 6: {'planning_time': 0.602, 'execution_time': 0.036}, 7: {'planning_time': 1.082, 'execution_time': 0.042}, 8: {'planning_time': 0.583, 'execution_time': 0.166}, 9: {'planning_time': 0.605, 'execution_time': 0.168}, 10: {'planning_time': 0.544, 'execution_time': 0.194}, 11: {'planning_time': 0.458, 'execution_time': 0.068}, 12: {'planning_time': 1.129, 'execution_time': 0.059}, 13: {'planning_time': 1.129, 'execution_time': 0.057}, 14: {'planning_time': 1.205, 'execution_time': 0.087}, 15: {'planning_time': 1.146, 'execution_time': 0.084}, 16: {'planning_time': 1.138, 'execution_time': 0.103}, 17: {'planning_time': 1.11, 'execution_time': 0.104}, 18: {'planning_time': 1.087, 'execution_time': 0.349}, 19: {'planning_time': 1.122, 'execution_time': 0.35}, 20: {'planning_time': 0.928, 'execution_time': 0.432}, 21: {'planning_time': 0.89, 'execution_time': 0.409}, 22: {'planning_time': 0.882, 'execution_time': 0.639}, 23: {'planning_time': 1.022, 'execution_time': 0.613}, 24: {'planning_time': 1.152, 'execution_time': 0.534}, 25: {'planning_time': 1.195, 'execution_time': 0.507}, 26: {'planning_time': 1.618, 'execution_time': 1.384}, 27: {'planning_time': 1.594, 'execution_time': 1.524}, 28: {'planning_time': 1.697, 'execution_time': 1.361}, 29: {'planning_time': 1.309, 'execution_time': 1.349}, 30: {'planning_time': 1.444, 'execution_time': 1.317}, 31: {'planning_time': 1.506, 'execution_time': 1.321}, 32: {'planning_time': 1.79, 'execution_time': 0.642}, 33: {'planning_time': 1.715, 'execution_time': 0.667}, 34: {'planning_time': 1.514, 'execution_time': 0.307}, 35: {'planning_time': 1.151, 'execution_time': 0.293}, 36: {'planning_time': 1.266, 'execution_time': 0.139}, 37: {'planning_time': 1.305, 'execution_time': 0.149}, 38: {'planning_time': 0.55, 'execution_time': 0.036}, 39: {'planning_time': 0.509, 'execution_time': 0.033}, 40: {'planning_time': 0.554, 'execution_time': 0.07}, 41: {'planning_time': 0.521, 'execution_time': 0.063}, 42: {'planning_time': 1.154, 'execution_time': 0.065}, 43: {'planning_time': 1.222, 'execution_time': 0.063}, 44: {'planning_time': 1.271, 'execution_time': 0.064}, 45: {'planning_time': 1.12, 'execution_time': 0.084}, 46: {'planning_time': 0.521, 'execution_time': 0.084}, 47: {'planning_time': 0.54, 'execution_time': 0.082}, 48: {'planning_time': 1.193, 'execution_time': 0.061}, 49: {'planning_time': 1.184, 'execution_time': 0.059}, 50: {'planning_time': 1.002, 'execution_time': 0.127}, 51: {'planning_time': 1.599, 'execution_time': 0.138}, 52: {'planning_time': 1.342, 'execution_time': 0.138}, 53: {'planning_time': 1.141, 'execution_time': 0.134}, 54: {'planning_time': 1.116, 'execution_time': 0.133}, 55: {'planning_time': 1.119, 'execution_time': 0.132}, 56: {'planning_time': 0.515, 'execution_time': 0.034}, 57: {'planning_time': 0.499, 'execution_time': 0.034}, 58: {'planning_time': 1.297, 'execution_time': 0.206}, 59: {'planning_time': 1.35, 'execution_time': 0.192}, 60: {'planning_time': 1.456, 'execution_time': 0.637}, 61: {'planning_time': 1.498, 'execution_time': 0.633}, 62: {'planning_time': 1.085, 'execution_time': 0.129}, 63: {'planning_time': 1.094, 'execution_time': 0.129}, 64: {'planning_time': 1.916, 'execution_time': 0.12}, 65: {'planning_time': 1.066, 'execution_time': 0.116}, 66: {'planning_time': 0.596, 'execution_time': 0.228}, 67: {'planning_time': 0.59, 'execution_time': 0.229}, 68: {'planning_time': 1.027, 'execution_time': 0.35}, 69: {'planning_time': 1.053, 'execution_time': 0.335}, 70: {'planning_time': 1.098, 'execution_time': 0.196}, 71: {'planning_time': 1.09, 'execution_time': 0.193}, 72: {'planning_time': 1.375, 'execution_time': 0.471}, 73: {'planning_time': 1.284, 'execution_time': 0.444}, 74: {'planning_time': 1.268, 'execution_time': 0.093}, 75: {'planning_time': 1.313, 'execution_time': 0.103}, 76: {'planning_time': 0.51, 'execution_time': 0.039}, 77: {'planning_time': 0.543, 'execution_time': 0.04}, 78: {'planning_time': 0.825, 'execution_time': 1.054}, 79: {'planning_time': 1.036, 'execution_time': 1.048}, 80: {'planning_time': 1.248, 'execution_time': 0.206}, 81: {'planning_time': 1.446, 'execution_time': 0.19}, 82: {'planning_time': 2.574, 'execution_time': 2.327}, 83: {'planning_time': 2.454, 'execution_time': 1.227}}\n"
     ]
    }
   ],
   "source": [
    "print(result_dict)"
   ]
  },
  {
   "cell_type": "code",
   "execution_count": 141,
   "metadata": {},
   "outputs": [],
   "source": [
    "for i in range(84):\n",
    "    if result_dict[i] is None:\n",
    "        print(i)"
   ]
  },
  {
   "cell_type": "code",
   "execution_count": 145,
   "metadata": {},
   "outputs": [
    {
     "name": "stdout",
     "output_type": "stream",
     "text": [
      "{'planning_time': 1.098, 'execution_time': 0.196}\n"
     ]
    }
   ],
   "source": [
    "plannings = []\n",
    "executions = []\n",
    "\n",
    "for i in range(84):\n",
    "    if result_dict[i] is not None:\n",
    "        print(result_dict[i])\n",
    "        plannings.append(str(result_dict[i]['planning_time']))\n",
    "        executions.append(str(result_dict[i]['execution_time']))\n",
    "    else:\n",
    "        plannings.append(\"\")\n",
    "        executions.append(\"\")"
   ]
  },
  {
   "cell_type": "code",
   "execution_count": 143,
   "metadata": {},
   "outputs": [],
   "source": [
    "with open(\"plannings.txt\", \"w\") as f:\n",
    "    f.write(\"\\n\".join(plannings))"
   ]
  },
  {
   "cell_type": "code",
   "execution_count": 144,
   "metadata": {},
   "outputs": [],
   "source": [
    "with open(\"executions.txt\", \"w\") as f:\n",
    "    f.write(\"\\n\".join(executions))"
   ]
  },
  {
   "cell_type": "code",
   "execution_count": null,
   "metadata": {},
   "outputs": [],
   "source": []
  }
 ],
 "metadata": {
  "kernelspec": {
   "display_name": "Python 3",
   "language": "python",
   "name": "python3"
  },
  "language_info": {
   "codemirror_mode": {
    "name": "ipython",
    "version": 3
   },
   "file_extension": ".py",
   "mimetype": "text/x-python",
   "name": "python",
   "nbconvert_exporter": "python",
   "pygments_lexer": "ipython3",
   "version": "3.10.12"
  },
  "orig_nbformat": 4
 },
 "nbformat": 4,
 "nbformat_minor": 2
}
