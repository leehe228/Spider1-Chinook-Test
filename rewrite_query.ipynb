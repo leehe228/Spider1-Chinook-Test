{
 "cells": [
  {
   "cell_type": "code",
   "execution_count": null,
   "metadata": {},
   "outputs": [],
   "source": [
    "!pip install python-dotenv\n",
    "!pip install openai huggingface_hub transformers\n",
    "!pip install --upgrade pip\n",
    "!pip install --upgrade transformers"
   ]
  },
  {
   "cell_type": "code",
   "execution_count": 69,
   "metadata": {},
   "outputs": [],
   "source": [
    "import sys\n",
    "import os\n",
    "from dotenv import load_dotenv\n",
    "import time\n",
    "from tqdm import tqdm\n",
    "import re\n",
    "import json\n",
    "\n",
    "opj = os.path.join"
   ]
  },
  {
   "cell_type": "code",
   "execution_count": 70,
   "metadata": {},
   "outputs": [
    {
     "name": "stdout",
     "output_type": "stream",
     "text": [
      "Torch Version: 2.2.0a0+81ea7a4\n",
      "CUDA is available: True\n"
     ]
    }
   ],
   "source": [
    "import huggingface_hub\n",
    "import transformers\n",
    "import torch\n",
    "from openai import OpenAI\n",
    "\n",
    "print(\"Torch Version:\", torch.__version__)\n",
    "print(\"CUDA is available:\", torch.cuda.is_available())"
   ]
  },
  {
   "cell_type": "code",
   "execution_count": 71,
   "metadata": {},
   "outputs": [
    {
     "data": {
      "text/plain": [
       "True"
      ]
     },
     "execution_count": 71,
     "metadata": {},
     "output_type": "execute_result"
    }
   ],
   "source": [
    "load_dotenv(verbose=True)"
   ]
  },
  {
   "cell_type": "code",
   "execution_count": null,
   "metadata": {},
   "outputs": [],
   "source": [
    "print(os.getenv(\"OPENAI_API_KEY\"))\n",
    "print(os.getenv(\"HUGGINGFACE_TOKEN\"))\n",
    "print(os.getenv(\"HF_HOME\"))"
   ]
  },
  {
   "cell_type": "code",
   "execution_count": 73,
   "metadata": {},
   "outputs": [],
   "source": [
    "client = OpenAI()"
   ]
  },
  {
   "cell_type": "code",
   "execution_count": 74,
   "metadata": {},
   "outputs": [],
   "source": [
    "prompt = \"\"\"Your task is to optimize SQL queries for the chinook database. Use the provided query rewriting rules to rewrite queries for optimal performance without changing their intent or results. You have access to a detailed table schema for the chinook database. The input SQL query is LLM's translation of natural language into SQL queries, which can be somewhat inefficient. Ensure each optimized query is efficient, leveraging indexing and avoiding unnecessary operations. For queries that can't be optimized, output as is. Output only one the most optimized query in ```sql``` statement.\n",
    "\n",
    "## Table Schema of chinook Benchmark\n",
    "```sql\n",
    "CREATE TABLE Album\n",
    "(\n",
    "    AlbumId INT NOT NULL,\n",
    "    Title VARCHAR(160) NOT NULL,\n",
    "    ArtistId INT NOT NULL,\n",
    "    CONSTRAINT PK_Album PRIMARY KEY  (AlbumId)\n",
    ");\n",
    "\n",
    "CREATE TABLE Artist\n",
    "(\n",
    "    ArtistId INT NOT NULL,\n",
    "    name VARCHAR(120),\n",
    "    CONSTRAINT PK_Artist PRIMARY KEY  (ArtistId)\n",
    ");\n",
    "\n",
    "CREATE TABLE Customer\n",
    "(\n",
    "    CustomerId INT NOT NULL,\n",
    "    FirstName VARCHAR(40) NOT NULL,\n",
    "    LastName VARCHAR(20) NOT NULL,\n",
    "    Company VARCHAR(80),\n",
    "    Address VARCHAR(70),\n",
    "    City VARCHAR(40),\n",
    "    State VARCHAR(40),\n",
    "    Country VARCHAR(40),\n",
    "    PostalCode VARCHAR(10),\n",
    "    Phone VARCHAR(24),\n",
    "    Fax VARCHAR(24),\n",
    "    Email VARCHAR(60) NOT NULL,\n",
    "    SupportRepId INT,\n",
    "    CONSTRAINT PK_Customer PRIMARY KEY  (CustomerId)\n",
    ");\n",
    "\n",
    "CREATE TABLE Employee\n",
    "(\n",
    "    EmployeeId INT NOT NULL,\n",
    "    LastName VARCHAR(20) NOT NULL,\n",
    "    FirstName VARCHAR(20) NOT NULL,\n",
    "    Title VARCHAR(30),\n",
    "    ReportsTo INT,\n",
    "    BirthDate TIMESTAMP,\n",
    "    HireDate TIMESTAMP,\n",
    "    Address VARCHAR(70),\n",
    "    City VARCHAR(40),\n",
    "    State VARCHAR(40),\n",
    "    Country VARCHAR(40),\n",
    "    PostalCode VARCHAR(10),\n",
    "    Phone VARCHAR(24),\n",
    "    Fax VARCHAR(24),\n",
    "    Email VARCHAR(60),\n",
    "    CONSTRAINT PK_Employee PRIMARY KEY  (EmployeeId)\n",
    ");\n",
    "\n",
    "CREATE TABLE Genre\n",
    "(\n",
    "    GenreId INT NOT NULL,\n",
    "    Name VARCHAR(120),\n",
    "    CONSTRAINT PK_Genre PRIMARY KEY  (GenreId)\n",
    ");\n",
    "\n",
    "CREATE TABLE invoice\n",
    "(\n",
    "    InvoiceId INT NOT NULL,\n",
    "    CustomerId INT NOT NULL,\n",
    "    InvoiceDate TIMESTAMP NOT NULL,\n",
    "    BillingAddress VARCHAR(70),\n",
    "    BillingCity VARCHAR(40),\n",
    "    BillingState VARCHAR(40),\n",
    "    BillingCountry VARCHAR(40),\n",
    "    BillingPostalCode VARCHAR(10),\n",
    "    Total NUMERIC(10,2) NOT NULL,\n",
    "    CONSTRAINT PK_Invoice PRIMARY KEY  (InvoiceId)\n",
    ");\n",
    "\n",
    "CREATE TABLE InvoiceLine\n",
    "(\n",
    "    InvoiceLineId INT NOT NULL,\n",
    "    InvoiceId INT NOT NULL,\n",
    "    TrackId INT NOT NULL,\n",
    "    UnitPrice NUMERIC(10,2) NOT NULL,\n",
    "    Quantity INT NOT NULL,\n",
    "    CONSTRAINT PK_InvoiceLine PRIMARY KEY  (InvoiceLineId)\n",
    ");\n",
    "\n",
    "CREATE TABLE MediaType\n",
    "(\n",
    "    MediaTypeId INT NOT NULL,\n",
    "    Name VARCHAR(120),\n",
    "    CONSTRAINT PK_MediaType PRIMARY KEY  (MediaTypeId)\n",
    ");\n",
    "\n",
    "CREATE TABLE Playlist\n",
    "(\n",
    "    PlaylistId INT NOT NULL,\n",
    "    Name VARCHAR(120),\n",
    "    CONSTRAINT PK_Playlist PRIMARY KEY  (PlaylistId)\n",
    ");\n",
    "\n",
    "CREATE TABLE PlaylistTrack\n",
    "(\n",
    "    PlaylistId INT NOT NULL,\n",
    "    TrackId INT NOT NULL,\n",
    "    CONSTRAINT PK_PlaylistTrack PRIMARY KEY  (PlaylistId, TrackId)\n",
    ");\n",
    "\n",
    "CREATE TABLE Track\n",
    "(\n",
    "    TrackId INT NOT NULL,\n",
    "    Name VARCHAR(200) NOT NULL,\n",
    "    AlbumId INT,\n",
    "    MediaTypeId INT NOT NULL,\n",
    "    GenreId INT,\n",
    "    Composer VARCHAR(220),\n",
    "    Milliseconds INT NOT NULL,\n",
    "    Bytes INT,\n",
    "    UnitPrice NUMERIC(10,2) NOT NULL,\n",
    "    CONSTRAINT PK_Track PRIMARY KEY  (TrackId)\n",
    ");\n",
    "```\n",
    "\n",
    "## Index and Foreign Key Cascade\n",
    "```sql\n",
    "ALTER TABLE Album ADD CONSTRAINT album_ArtistId_fkey\n",
    "    FOREIGN KEY (ArtistId) REFERENCES Artist (ArtistId) ON DELETE NO ACTION ON UPDATE NO ACTION;\n",
    "\n",
    "CREATE INDEX IFK_AlbumArtistId ON album (ArtistId);\n",
    "\n",
    "ALTER TABLE Customer ADD CONSTRAINT customer_SupportRepId_fkey\n",
    "    FOREIGN KEY (SupportRepId) REFERENCES Employee (EmployeeId) ON DELETE NO ACTION ON UPDATE NO ACTION;\n",
    "\n",
    "CREATE INDEX IFK_CustomerSupportRepId ON customer (SupportRepId);\n",
    "\n",
    "ALTER TABLE Employee ADD CONSTRAINT employee_ReportsTo_fkey\n",
    "    FOREIGN KEY (ReportsTo) REFERENCES Employee (EmployeeId) ON DELETE NO ACTION ON UPDATE NO ACTION;\n",
    "\n",
    "CREATE INDEX IFK_EmployeeReportsTo ON Employee (ReportsTo);\n",
    "\n",
    "ALTER TABLE invoice ADD CONSTRAINT invoice_CustomerId_fkey\n",
    "    FOREIGN KEY (CustomerId) REFERENCES Customer (CustomerId) ON DELETE NO ACTION ON UPDATE NO ACTION;\n",
    "\n",
    "CREATE INDEX IFK_InvoiceCustomerId ON Invoice (CustomerId);\n",
    "\n",
    "ALTER TABLE InvoiceLine ADD CONSTRAINT InvoiceLine_InvoiceId_fkey\n",
    "    FOREIGN KEY (InvoiceId) REFERENCES Invoice (InvoiceId) ON DELETE NO ACTION ON UPDATE NO ACTION;\n",
    "\n",
    "CREATE INDEX IFK_InvoiceLineInvoiceId ON InvoiceLine (InvoiceId);\n",
    "\n",
    "ALTER TABLE InvoiceLine ADD CONSTRAINT InvoiceLine_TrackId_fkey\n",
    "    FOREIGN KEY (TrackId) REFERENCES Track (TrackId) ON DELETE NO ACTION ON UPDATE NO ACTION;\n",
    "\n",
    "CREATE INDEX IFK_InvoiceLineTrackId ON InvoiceLine (TrackId);\n",
    "\n",
    "ALTER TABLE PlaylistTrack ADD CONSTRAINT PlaylistTrack_PlaylistId_fkey\n",
    "    FOREIGN KEY (PlaylistId) REFERENCES Playlist (PlaylistId) ON DELETE NO ACTION ON UPDATE NO ACTION;\n",
    "\n",
    "CREATE INDEX IFK_PlaylistTrackPlaylistId ON PlaylistTrack (PlaylistId);\n",
    "\n",
    "ALTER TABLE PlaylistTrack ADD CONSTRAINT PlaylistTrack_TrackId_fkey\n",
    "    FOREIGN KEY (TrackId) REFERENCES Track (TrackId) ON DELETE NO ACTION ON UPDATE NO ACTION;\n",
    "\n",
    "CREATE INDEX IFK_PlaylistTrackTrackId ON PlaylistTrack (TrackId);\n",
    "\n",
    "ALTER TABLE Track ADD CONSTRAINT track_AlbumId_fkey\n",
    "    FOREIGN KEY (AlbumId) REFERENCES Album (AlbumId) ON DELETE NO ACTION ON UPDATE NO ACTION;\n",
    "\n",
    "CREATE INDEX IFK_TrackAlbumId ON Track (AlbumId);\n",
    "\n",
    "ALTER TABLE Track ADD CONSTRAINT track_GenreId_fkey\n",
    "    FOREIGN KEY (GenreId) REFERENCES Genre (GenreId) ON DELETE NO ACTION ON UPDATE NO ACTION;\n",
    "\n",
    "CREATE INDEX IFK_TrackGenreId ON Track (GenreId);\n",
    "\n",
    "ALTER TABLE Track ADD CONSTRAINT track_MediaTypeId_fkey\n",
    "    FOREIGN KEY (MediaTypeId) REFERENCES MediaType (MediaTypeId) ON DELETE NO ACTION ON UPDATE NO ACTION;\n",
    "\n",
    "CREATE INDEX IFK_TrackMediaTypeId ON Track (MediaTypeId);\n",
    "```\n",
    "\n",
    "## Input chinook SQL Query\n",
    "```sql\n",
    "{{INPUT_SQL_QUERY}}\n",
    "```\n",
    "\n",
    "Optimized Rewritten SQL Query: \"\"\""
   ]
  },
  {
   "cell_type": "code",
   "execution_count": 75,
   "metadata": {},
   "outputs": [],
   "source": [
    "def gpt_call(model_id, system=None, prompt=\"\", verbose=False):\n",
    "    start_time = time.time()\n",
    "\n",
    "    if system is None:\n",
    "        messages = [\n",
    "            {\n",
    "                \"role\": \"user\",\n",
    "                \"content\": [\n",
    "                    {\n",
    "                        \"type\": \"text\",\n",
    "                        \"text\": prompt\n",
    "                    }\n",
    "                ]\n",
    "            }\n",
    "        ]\n",
    "    else:\n",
    "        messages = [\n",
    "            {\n",
    "                \"role\": \"system\", \n",
    "                \"content\": [\n",
    "                    {\n",
    "                        \"type\": \"text\", \n",
    "                        \"text\": system\n",
    "                    }\n",
    "                ]\n",
    "            },\n",
    "            {\n",
    "                \"role\": \"user\",\n",
    "                \"content\": [\n",
    "                    {\n",
    "                        \"type\": \"text\",\n",
    "                        \"text\": prompt\n",
    "                    }\n",
    "                ]\n",
    "            }\n",
    "        ]\n",
    "\n",
    "    assert model_id in [\"gpt-4o\", \"gpt-4o-mini\", \"gpt-4-turbo\"], \"wrong model id provided.\"\n",
    "    assert len(prompt.strip()) > 0, \"prompt must not be empty string.\"\n",
    "\n",
    "    if verbose:\n",
    "        print(\"Model:\", model_id)\n",
    "        print(\"Input Message:\", messages)\n",
    "\n",
    "    response = client.chat.completions.create(\n",
    "        model=model_id,\n",
    "        messages=messages,\n",
    "        temperature=1,\n",
    "        max_tokens=2048,\n",
    "        top_p=1,\n",
    "        frequency_penalty=0,\n",
    "        presence_penalty=0,\n",
    "        response_format={\n",
    "            \"type\": \"text\"\n",
    "        }\n",
    "    )\n",
    "\n",
    "    if verbose:\n",
    "        print(\"Model Response:\", response.choices[0].message.content)\n",
    "\n",
    "    print(f\"Time Elapsed: {time.time() - start_time:.5f} sec\")\n",
    "\n",
    "    return response.choices[0].message.content"
   ]
  },
  {
   "cell_type": "code",
   "execution_count": 76,
   "metadata": {},
   "outputs": [
    {
     "name": "stdout",
     "output_type": "stream",
     "text": [
      "Model: gpt-4o\n",
      "Input Message: [{'role': 'user', 'content': [{'type': 'text', 'text': 'Hello'}]}]\n",
      "Model Response: Hello! How can I assist you today?\n",
      "Time Elapsed: 0.48871 sec\n"
     ]
    },
    {
     "data": {
      "text/plain": [
       "'Hello! How can I assist you today?'"
      ]
     },
     "execution_count": 76,
     "metadata": {},
     "output_type": "execute_result"
    }
   ],
   "source": [
    "# test gpt\n",
    "gpt_call(model_id=\"gpt-4o\", system=None, prompt=\"Hello\", verbose=True)"
   ]
  },
  {
   "cell_type": "code",
   "execution_count": 77,
   "metadata": {},
   "outputs": [],
   "source": [
    "def read_sql_file(file_path):\n",
    "    try:\n",
    "        with open(file_path, 'r', encoding='utf-8') as file:\n",
    "            return file.read()\n",
    "    except FileNotFoundError:\n",
    "        print(f\"파일을 찾을 수 없습니다: {file_path}\")\n",
    "    except Exception as e:\n",
    "        print(f\"파일을 읽는 중 오류가 발생했습니다: {e}\")\n",
    "\n",
    "def write_sql_file(content, file_path):\n",
    "    try:\n",
    "        with open(file_path, 'w', encoding='utf-8') as file:\n",
    "            file.write(content)\n",
    "            print(f\"SQL 파일이 저장되었습니다: {file_path}\")\n",
    "    except Exception as e:\n",
    "        print(f\"파일을 저장하는 중 오류가 발생했습니다: {e}\")"
   ]
  },
  {
   "cell_type": "code",
   "execution_count": 78,
   "metadata": {},
   "outputs": [],
   "source": [
    "original_query_dict = dict()"
   ]
  },
  {
   "cell_type": "code",
   "execution_count": 79,
   "metadata": {},
   "outputs": [],
   "source": [
    "ORIGINAL_QUERY_DIR = \"/home/work/hoeun/spider1/chinook_queries/\"\n",
    "OUTPUT_DIR = \"/home/work/hoeun/spider1/gpt4_rewrite_queries/\"\n",
    "QUERY_RANGE = range(0, 84)"
   ]
  },
  {
   "cell_type": "code",
   "execution_count": 80,
   "metadata": {},
   "outputs": [],
   "source": [
    "for qnum in QUERY_RANGE:\n",
    "    file_path = opj(ORIGINAL_QUERY_DIR, f\"{qnum}.sql\")\n",
    "    sql_content = read_sql_file(file_path)\n",
    "\n",
    "    if sql_content is not None:\n",
    "        original_query_dict[qnum] = sql_content"
   ]
  },
  {
   "cell_type": "code",
   "execution_count": 81,
   "metadata": {},
   "outputs": [
    {
     "name": "stdout",
     "output_type": "stream",
     "text": [
      "0m.sql\n",
      "==========\n",
      "-- db_id: chinook_1\n",
      "-- question: How many albums are there?\n",
      "SELECT count(*) FROM ALBUM\n",
      "\n",
      "==========\n",
      "\n",
      "\n",
      "1m.sql\n",
      "==========\n",
      "-- db_id: chinook_1\n",
      "-- question: Find the number of albums.\n",
      "SELECT count(*) FROM ALBUM\n",
      "\n",
      "==========\n",
      "\n",
      "\n",
      "2m.sql\n",
      "==========\n",
      "-- db_id: chinook_1\n",
      "-- question: List the names of all music genres.\n",
      "SELECT Name FROM GENRE\n",
      "\n",
      "==========\n",
      "\n",
      "\n",
      "3m.sql\n",
      "==========\n",
      "-- db_id: chinook_1\n",
      "-- question: What are the names of different music genres?\n",
      "SELECT Name FROM GENRE\n",
      "\n",
      "==========\n",
      "\n",
      "\n",
      "4m.sql\n",
      "==========\n",
      "-- db_id: chinook_1\n",
      "-- question: Find all the customer information in state NY.\n",
      "SELECT * FROM CUSTOMER WHERE State  =  'NY'\n",
      "\n",
      "==========\n",
      "\n",
      "\n",
      "5m.sql\n",
      "==========\n",
      "-- db_id: chinook_1\n",
      "-- question: What is all the customer information for customers in NY state?\n",
      "SELECT * FROM CUSTOMER WHERE State  =  'NY'\n",
      "\n",
      "==========\n",
      "\n",
      "\n",
      "6m.sql\n",
      "==========\n",
      "-- db_id: chinook_1\n",
      "-- question: What are the first names and last names of the employees who live in Calgary city.\n",
      "SELECT FirstName ,  LastName FROM EMPLOYEE WHERE City  =  'Calgary'\n",
      "\n",
      "==========\n",
      "\n",
      "\n",
      "7m.sql\n",
      "==========\n",
      "-- db_id: chinook_1\n",
      "-- question: Find the full names of employees living in the city of Calgary.\n",
      "SELECT FirstName ,  LastName FROM EMPLOYEE WHERE City  =  'Calgary'\n",
      "\n",
      "==========\n",
      "\n",
      "\n",
      "8m.sql\n",
      "==========\n",
      "-- db_id: chinook_1\n",
      "-- question: What are the distinct billing countries of the invoices?\n",
      "SELECT distinct(BillingCountry) FROM INVOICE\n",
      "\n",
      "==========\n",
      "\n",
      "\n",
      "9m.sql\n",
      "==========\n",
      "-- db_id: chinook_1\n",
      "-- question: Find the different billing countries for all invoices.\n",
      "SELECT distinct(BillingCountry) FROM INVOICE\n",
      "\n",
      "==========\n",
      "\n",
      "\n",
      "10m.sql\n",
      "==========\n",
      "-- db_id: chinook_1\n",
      "-- question: Find the names of all artists that have \"a\" in their names.\n",
      "SELECT Name FROM ARTIST WHERE Name LIKE '%a%'\n",
      "\n",
      "==========\n",
      "\n",
      "\n",
      "11m.sql\n",
      "==========\n",
      "-- db_id: chinook_1\n",
      "-- question: What are the names of artist who have the letter 'a' in their names?\n",
      "SELECT Name FROM ARTIST WHERE Name LIKE '%a%'\n",
      "\n",
      "==========\n",
      "\n",
      "\n",
      "12m.sql\n",
      "==========\n",
      "-- db_id: chinook_1\n",
      "-- question: Find the title of all the albums of the artist \"AC/DC\".\n",
      "SELECT Title FROM ALBUM AS T1 JOIN ARTIST AS T2 ON T1.ArtistId  =  T2.ArtistId WHERE T2.Name  =  'AC/DC'\n",
      "\n",
      "==========\n",
      "\n",
      "\n",
      "13m.sql\n",
      "==========\n",
      "-- db_id: chinook_1\n",
      "-- question: What are the titles of albums by the artist \"AC/DC\"?\n",
      "SELECT Title FROM ALBUM AS T1 JOIN ARTIST AS T2 ON T1.ArtistId  =  T2.ArtistId WHERE T2.Name  =  'AC/DC'\n",
      "\n",
      "==========\n",
      "\n",
      "\n",
      "14m.sql\n",
      "==========\n",
      "-- db_id: chinook_1\n",
      "-- question: Hom many albums does the artist \"Metallica\" have?\n",
      "SELECT COUNT(*) FROM ALBUM AS T1 JOIN ARTIST AS T2 ON T1.ArtistId  =  T2.ArtistId WHERE T2.Name  =  'Metallica'\n",
      "\n",
      "==========\n",
      "\n",
      "\n",
      "15m.sql\n",
      "==========\n",
      "-- db_id: chinook_1\n",
      "-- question: Find the number of albums by the artist \"Metallica\".\n",
      "SELECT COUNT(*) FROM ALBUM AS T1 JOIN ARTIST AS T2 ON T1.ArtistId  =  T2.ArtistId WHERE T2.Name  =  'Metallica'\n",
      "\n",
      "==========\n",
      "\n",
      "\n",
      "16m.sql\n",
      "==========\n",
      "-- db_id: chinook_1\n",
      "-- question: Which artist does the album \"Balls to the Wall\" belong to?\n",
      "SELECT T2.Name FROM ALBUM AS T1 JOIN ARTIST AS T2 ON T1.ArtistId  =  T2.ArtistId WHERE T1.Title  =  'Balls to the Wall'\n",
      "\n",
      "==========\n",
      "\n",
      "\n",
      "17m.sql\n",
      "==========\n",
      "-- db_id: chinook_1\n",
      "-- question: Find the name of the artist who made the album \"Balls to the Wall\".\n",
      "SELECT T2.Name FROM ALBUM AS T1 JOIN ARTIST AS T2 ON T1.ArtistId  =  T2.ArtistId WHERE T1.Title  =  'Balls to the Wall'\n",
      "\n",
      "==========\n",
      "\n",
      "\n",
      "18m.sql\n",
      "==========\n",
      "-- db_id: chinook_1\n",
      "-- question: Which artist has the most albums?\n",
      "SELECT T2.Name FROM ALBUM AS T1 JOIN ARTIST AS T2 ON T1.ArtistId  =  T2.ArtistId GROUP BY T2.Name ORDER BY COUNT(*) DESC LIMIT 1\n",
      "\n",
      "==========\n",
      "\n",
      "\n",
      "19m.sql\n",
      "==========\n",
      "-- db_id: chinook_1\n",
      "-- question: What is the name of the artist with the greatest number of albums?\n",
      "SELECT T2.Name FROM ALBUM AS T1 JOIN ARTIST AS T2 ON T1.ArtistId  =  T2.ArtistId GROUP BY T2.Name ORDER BY COUNT(*) DESC LIMIT 1\n",
      "\n",
      "==========\n",
      "\n",
      "\n",
      "20m.sql\n",
      "==========\n",
      "-- db_id: chinook_1\n",
      "-- question: Find the names of all the tracks that contain the word \"you\".\n",
      "SELECT Name FROM TRACK WHERE Name LIKE '%you%'\n",
      "\n",
      "==========\n",
      "\n",
      "\n",
      "21m.sql\n",
      "==========\n",
      "-- db_id: chinook_1\n",
      "-- question: What are the names of tracks that contain the the word you in them?\n",
      "SELECT Name FROM TRACK WHERE Name LIKE '%you%'\n",
      "\n",
      "==========\n",
      "\n",
      "\n",
      "22m.sql\n",
      "==========\n",
      "-- db_id: chinook_1\n",
      "-- question: What is the average unit price of all the tracks?\n",
      "SELECT AVG(UnitPrice) FROM TRACK\n",
      "\n",
      "==========\n",
      "\n",
      "\n",
      "23m.sql\n",
      "==========\n",
      "-- db_id: chinook_1\n",
      "-- question: Find the average unit price for a track.\n",
      "SELECT AVG(UnitPrice) FROM TRACK\n",
      "\n",
      "==========\n",
      "\n",
      "\n",
      "24m.sql\n",
      "==========\n",
      "-- db_id: chinook_1\n",
      "-- question: What are the durations of the longest and the shortest tracks in milliseconds?\n",
      "SELECT max(Milliseconds) ,  min(Milliseconds) FROM TRACK\n",
      "\n",
      "==========\n",
      "\n",
      "\n",
      "25m.sql\n",
      "==========\n",
      "-- db_id: chinook_1\n",
      "-- question: Find the maximum and minimum durations of tracks in milliseconds.\n",
      "SELECT max(Milliseconds) ,  min(Milliseconds) FROM TRACK\n",
      "\n",
      "==========\n",
      "\n",
      "\n",
      "26m.sql\n",
      "==========\n",
      "-- db_id: chinook_1\n",
      "-- question: Show the album names, ids and the number of tracks for each album.\n",
      "SELECT T1.Title ,  T2.AlbumID ,  COUNT(*) FROM ALBUM AS T1 JOIN TRACK AS T2 ON T1.AlbumId  =  T2.AlbumId GROUP BY T2.AlbumID\n",
      "\n",
      "==========\n",
      "\n",
      "\n",
      "27m.sql\n",
      "==========\n",
      "-- db_id: chinook_1\n",
      "-- question: What are the names and ids of the different albums, and how many tracks are on each?\n",
      "SELECT T1.Title ,  T2.AlbumID ,  COUNT(*) FROM ALBUM AS T1 JOIN TRACK AS T2 ON T1.AlbumId  =  T2.AlbumId GROUP BY T2.AlbumID\n",
      "\n",
      "==========\n",
      "\n",
      "\n",
      "28m.sql\n",
      "==========\n",
      "-- db_id: chinook_1\n",
      "-- question: What is the name of the most common genre in all tracks?\n",
      "SELECT T1.Name FROM GENRE AS T1 JOIN TRACK AS T2 ON T1.GenreId  =  T2.GenreId GROUP BY T2.GenreId ORDER BY COUNT(*) DESC LIMIT 1\n",
      "\n",
      "==========\n",
      "\n",
      "\n",
      "29m.sql\n",
      "==========\n",
      "-- db_id: chinook_1\n",
      "-- question: Find the name of the genre that is most frequent across all tracks.\n",
      "SELECT T1.Name FROM GENRE AS T1 JOIN TRACK AS T2 ON T1.GenreId  =  T2.GenreId GROUP BY T2.GenreId ORDER BY COUNT(*) DESC LIMIT 1\n",
      "\n",
      "==========\n",
      "\n",
      "\n",
      "30m.sql\n",
      "==========\n",
      "-- db_id: chinook_1\n",
      "-- question: What is the least common media type in all tracks?\n",
      "SELECT T1.Name FROM MEDIATYPE AS T1 JOIN TRACK AS T2 ON T1.MediaTypeId  =  T2.MediaTypeId GROUP BY T2.MediaTypeId ORDER BY COUNT(*) ASC LIMIT 1\n",
      "\n",
      "==========\n",
      "\n",
      "\n",
      "31m.sql\n",
      "==========\n",
      "-- db_id: chinook_1\n",
      "-- question: What is the name of the media type that is least common across all tracks?\n",
      "SELECT T1.Name FROM MEDIATYPE AS T1 JOIN TRACK AS T2 ON T1.MediaTypeId  =  T2.MediaTypeId GROUP BY T2.MediaTypeId ORDER BY COUNT(*) ASC LIMIT 1\n",
      "\n",
      "==========\n",
      "\n",
      "\n",
      "32m.sql\n",
      "==========\n",
      "-- db_id: chinook_1\n",
      "-- question: Show the album names and ids for albums that contain tracks with unit price bigger than 1.\n",
      "SELECT T1.Title ,  T2.AlbumID FROM ALBUM AS T1 JOIN TRACK AS T2 ON T1.AlbumId  =  T2.AlbumId WHERE T2.UnitPrice  >  1 GROUP BY T2.AlbumID\n",
      "\n",
      "==========\n",
      "\n",
      "\n",
      "33m.sql\n",
      "==========\n",
      "-- db_id: chinook_1\n",
      "-- question: What are the titles and ids for albums containing tracks with unit price greater than 1?\n",
      "SELECT T1.Title ,  T2.AlbumID FROM ALBUM AS T1 JOIN TRACK AS T2 ON T1.AlbumId  =  T2.AlbumId WHERE T2.UnitPrice  >  1 GROUP BY T2.AlbumID\n",
      "\n",
      "==========\n",
      "\n",
      "\n",
      "34m.sql\n",
      "==========\n",
      "-- db_id: chinook_1\n",
      "-- question: How many tracks belong to rock genre?\n",
      "SELECT COUNT(*) FROM GENRE AS T1 JOIN TRACK AS T2 ON T1.GenreId  =  T2.GenreId WHERE T1.Name  =  'Rock'\n",
      "\n",
      "==========\n",
      "\n",
      "\n",
      "35m.sql\n",
      "==========\n",
      "-- db_id: chinook_1\n",
      "-- question: Count the number of tracks that are part of the rock genre.\n",
      "SELECT COUNT(*) FROM GENRE AS T1 JOIN TRACK AS T2 ON T1.GenreId  =  T2.GenreId WHERE T1.Name  =  'Rock'\n",
      "\n",
      "==========\n",
      "\n",
      "\n",
      "36m.sql\n",
      "==========\n",
      "-- db_id: chinook_1\n",
      "-- question: What is the average unit price of tracks that belong to Jazz genre?\n",
      "SELECT AVG(UnitPrice) FROM GENRE AS T1 JOIN TRACK AS T2 ON T1.GenreId  =  T2.GenreId WHERE T1.Name  =  'Jazz'\n",
      "\n",
      "==========\n",
      "\n",
      "\n",
      "37m.sql\n",
      "==========\n",
      "-- db_id: chinook_1\n",
      "-- question: Find the average unit price of jazz tracks.\n",
      "SELECT AVG(UnitPrice) FROM GENRE AS T1 JOIN TRACK AS T2 ON T1.GenreId  =  T2.GenreId WHERE T1.Name  =  'Jazz'\n",
      "\n",
      "==========\n",
      "\n",
      "\n",
      "38m.sql\n",
      "==========\n",
      "-- db_id: chinook_1\n",
      "-- question: What is the first name and last name of the customer that has email \"luisg@embraer.com.br\"?\n",
      "SELECT FirstName ,  LastName FROM CUSTOMER WHERE Email  =  'luisg@embraer.com.br'\n",
      "\n",
      "==========\n",
      "\n",
      "\n",
      "39m.sql\n",
      "==========\n",
      "-- db_id: chinook_1\n",
      "-- question: Find the full name of the customer with the email \"luisg@embraer.com.br\".\n",
      "SELECT FirstName ,  LastName FROM CUSTOMER WHERE Email  =  'luisg@embraer.com.br'\n",
      "\n",
      "==========\n",
      "\n",
      "\n",
      "40m.sql\n",
      "==========\n",
      "-- db_id: chinook_1\n",
      "-- question: How many customers have email that contains \"gmail.com\"?\n",
      "SELECT COUNT(*) FROM CUSTOMER WHERE Email LIKE '%gmail.com%'\n",
      "\n",
      "==========\n",
      "\n",
      "\n",
      "41m.sql\n",
      "==========\n",
      "-- db_id: chinook_1\n",
      "-- question: Count the number of customers that have an email containing \"gmail.com\".\n",
      "SELECT COUNT(*) FROM CUSTOMER WHERE Email LIKE '%gmail.com%'\n",
      "\n",
      "==========\n",
      "\n",
      "\n",
      "42m.sql\n",
      "==========\n",
      "-- db_id: chinook_1\n",
      "-- question: What is the first name and last name employee helps the customer with first name Leonie?\n",
      "SELECT T2.FirstName ,  T2.LastName FROM CUSTOMER AS T1 JOIN EMPLOYEE AS T2 ON T1.SupportRepId  =  T2.EmployeeId WHERE T1.FirstName  =  'Leonie'\n",
      "\n",
      "==========\n",
      "\n",
      "\n",
      "43m.sql\n",
      "==========\n",
      "-- db_id: chinook_1\n",
      "-- question: Find the full names of employees who help customers with the first name Leonie.\n",
      "SELECT T2.FirstName ,  T2.LastName FROM CUSTOMER AS T1 JOIN EMPLOYEE AS T2 ON T1.SupportRepId  =  T2.EmployeeId WHERE T1.FirstName  =  'Leonie'\n",
      "\n",
      "==========\n",
      "\n",
      "\n",
      "44m.sql\n",
      "==========\n",
      "-- db_id: chinook_1\n",
      "-- question: What city does the employee who helps the customer with postal code 70174 live in?\n",
      "SELECT T2.City FROM CUSTOMER AS T1 JOIN EMPLOYEE AS T2 ON T1.SupportRepId  =  T2.EmployeeId WHERE T1.PostalCode  =  '70174'\n",
      "\n",
      "==========\n",
      "\n",
      "\n",
      "45m.sql\n",
      "==========\n",
      "-- db_id: chinook_1\n",
      "-- question: Find the cities corresponding to employees who help customers with the postal code 70174.\n",
      "SELECT T2.City FROM CUSTOMER AS T1 JOIN EMPLOYEE AS T2 ON T1.SupportRepId  =  T2.EmployeeId WHERE T1.PostalCode  =  '70174'\n",
      "\n",
      "==========\n",
      "\n",
      "\n",
      "46m.sql\n",
      "==========\n",
      "-- db_id: chinook_1\n",
      "-- question: How many distinct cities does the employees live in?\n",
      "SELECT COUNT(DISTINCT city) FROM EMPLOYEE\n",
      "\n",
      "==========\n",
      "\n",
      "\n",
      "47m.sql\n",
      "==========\n",
      "-- db_id: chinook_1\n",
      "-- question: Find the number of different cities that employees live in.\n",
      "SELECT COUNT(DISTINCT city) FROM EMPLOYEE\n",
      "\n",
      "==========\n",
      "\n",
      "\n",
      "48m.sql\n",
      "==========\n",
      "-- db_id: chinook_1\n",
      "-- question: Find all invoice dates corresponding to customers with first name Astrid and last name Gruber.\n",
      "SELECT T2.InvoiceDate FROM CUSTOMER AS T1 JOIN INVOICE AS T2 ON T1.CustomerId  =  T2.CustomerId WHERE T1.FirstName  =  'Astrid' AND LastName  =  'Gruber'\n",
      "\n",
      "==========\n",
      "\n",
      "\n",
      "49m.sql\n",
      "==========\n",
      "-- db_id: chinook_1\n",
      "-- question: What are the invoice dates for customers with the first name Astrid and the last name Gruber?\n",
      "SELECT T2.InvoiceDate FROM CUSTOMER AS T1 JOIN INVOICE AS T2 ON T1.CustomerId  =  T2.CustomerId WHERE T1.FirstName  =  'Astrid' AND LastName  =  'Gruber'\n",
      "\n",
      "==========\n",
      "\n",
      "\n",
      "50m.sql\n",
      "==========\n",
      "-- db_id: chinook_1\n",
      "-- question: Find all the customer last names that do not have invoice totals larger than 20.\n",
      "SELECT LastName FROM CUSTOMER EXCEPT SELECT T1.LastName FROM CUSTOMER AS T1 JOIN Invoice AS T2 ON T1.CustomerId  =  T2.CustomerId WHERE T2.total  >  20\n",
      "\n",
      "==========\n",
      "\n",
      "\n",
      "51m.sql\n",
      "==========\n",
      "-- db_id: chinook_1\n",
      "-- question: What are the last names of customers without invoice totals exceeding 20?\n",
      "SELECT LastName FROM CUSTOMER EXCEPT SELECT T1.LastName FROM CUSTOMER AS T1 JOIN Invoice AS T2 ON T1.CustomerId  =  T2.CustomerId WHERE T2.total  >  20\n",
      "\n",
      "==========\n",
      "\n",
      "\n",
      "52m.sql\n",
      "==========\n",
      "-- db_id: chinook_1\n",
      "-- question: Find the first names of all customers that live in Brazil and have an invoice.\n",
      "SELECT DISTINCT T1.FirstName FROM CUSTOMER AS T1 JOIN INVOICE AS T2 ON T1.CustomerId  =  T2.CustomerId WHERE T1.country  =  'Brazil'\n",
      "\n",
      "==========\n",
      "\n",
      "\n",
      "53m.sql\n",
      "==========\n",
      "-- db_id: chinook_1\n",
      "-- question: What are the different first names for customers from Brazil who have also had an invoice?\n",
      "SELECT DISTINCT T1.FirstName FROM CUSTOMER AS T1 JOIN INVOICE AS T2 ON T1.CustomerId  =  T2.CustomerId WHERE T1.country  =  'Brazil'\n",
      "\n",
      "==========\n",
      "\n",
      "\n",
      "54m.sql\n",
      "==========\n",
      "-- db_id: chinook_1\n",
      "-- question: Find the address of all customers that live in Germany and have invoice.\n",
      "SELECT DISTINCT T1.Address FROM CUSTOMER AS T1 JOIN INVOICE AS T2 ON T1.CustomerId  =  T2.CustomerId WHERE T1.country  =  'Germany'\n",
      "\n",
      "==========\n",
      "\n",
      "\n",
      "55m.sql\n",
      "==========\n",
      "-- db_id: chinook_1\n",
      "-- question: What are the addresses of customers living in Germany who have had an invoice?\n",
      "SELECT DISTINCT T1.Address FROM CUSTOMER AS T1 JOIN INVOICE AS T2 ON T1.CustomerId  =  T2.CustomerId WHERE T1.country  =  'Germany'\n",
      "\n",
      "==========\n",
      "\n",
      "\n",
      "56m.sql\n",
      "==========\n",
      "-- db_id: chinook_1\n",
      "-- question: List the phone numbers of all employees.\n",
      "SELECT Phone FROM EMPLOYEE\n",
      "\n",
      "==========\n",
      "\n",
      "\n",
      "57m.sql\n",
      "==========\n",
      "-- db_id: chinook_1\n",
      "-- question: What are the phone numbers for each employee?\n",
      "SELECT Phone FROM EMPLOYEE\n",
      "\n",
      "==========\n",
      "\n",
      "\n",
      "58m.sql\n",
      "==========\n",
      "-- db_id: chinook_1\n",
      "-- question: How many tracks are in the AAC audio file media type?\n",
      "SELECT COUNT(*) FROM MEDIATYPE AS T1 JOIN TRACK AS T2 ON T1.MediaTypeId  =  T2.MediaTypeId WHERE T1.Name  =  'AAC audio file'\n",
      "\n",
      "==========\n",
      "\n",
      "\n",
      "59m.sql\n",
      "==========\n",
      "-- db_id: chinook_1\n",
      "-- question: Count the number of tracks that are of the media type \"AAC audio file\".\n",
      "SELECT COUNT(*) FROM MEDIATYPE AS T1 JOIN TRACK AS T2 ON T1.MediaTypeId  =  T2.MediaTypeId WHERE T1.Name  =  'AAC audio file'\n",
      "\n",
      "==========\n",
      "\n",
      "\n",
      "60m.sql\n",
      "==========\n",
      "-- db_id: chinook_1\n",
      "-- question: What is the average duration in milliseconds of tracks that belong to Latin or Pop genre?\n",
      "SELECT AVG(Milliseconds) FROM GENRE AS T1 JOIN TRACK AS T2 ON T1.GenreId  =  T2.GenreId WHERE T1.Name  =  'Latin' OR T1.Name  =  'Pop'\n",
      "\n",
      "==========\n",
      "\n",
      "\n",
      "61m.sql\n",
      "==========\n",
      "-- db_id: chinook_1\n",
      "-- question: Find the average millisecond length of Latin and Pop tracks.\n",
      "SELECT AVG(Milliseconds) FROM GENRE AS T1 JOIN TRACK AS T2 ON T1.GenreId  =  T2.GenreId WHERE T1.Name  =  'Latin' OR T1.Name  =  'Pop'\n",
      "\n",
      "==========\n",
      "\n",
      "\n",
      "62m.sql\n",
      "==========\n",
      "-- db_id: chinook_1\n",
      "-- question: Please show the employee first names and ids of employees who serve at least 10 customers.\n",
      "SELECT T1.FirstName ,  T1.SupportRepId FROM CUSTOMER AS T1 JOIN EMPLOYEE AS T2 ON T1.SupportRepId  =  T2.EmployeeId GROUP BY T1.SupportRepId HAVING COUNT(*)  >=  10\n",
      "\n",
      "==========\n",
      "\n",
      "\n",
      "63m.sql\n",
      "==========\n",
      "-- db_id: chinook_1\n",
      "-- question: What are the first names and support rep ids for employees serving 10 or more customers?\n",
      "SELECT T1.FirstName ,  T1.SupportRepId FROM CUSTOMER AS T1 JOIN EMPLOYEE AS T2 ON T1.SupportRepId  =  T2.EmployeeId GROUP BY T1.SupportRepId HAVING COUNT(*)  >=  10\n",
      "\n",
      "==========\n",
      "\n",
      "\n",
      "64m.sql\n",
      "==========\n",
      "-- db_id: chinook_1\n",
      "-- question: Please show the employee last names that serves no more than 20 customers.\n",
      "SELECT T1.LastName FROM CUSTOMER AS T1 JOIN EMPLOYEE AS T2 ON T1.SupportRepId  =  T2.EmployeeId GROUP BY T1.SupportRepId HAVING COUNT(*)  <=  20\n",
      "\n",
      "==========\n",
      "\n",
      "\n",
      "65m.sql\n",
      "==========\n",
      "-- db_id: chinook_1\n",
      "-- question: What are the last names of employees who serve at most 20 customers?\n",
      "SELECT T1.LastName FROM CUSTOMER AS T1 JOIN EMPLOYEE AS T2 ON T1.SupportRepId  =  T2.EmployeeId GROUP BY T1.SupportRepId HAVING COUNT(*)  <=  20\n",
      "\n",
      "==========\n",
      "\n",
      "\n",
      "66m.sql\n",
      "==========\n",
      "-- db_id: chinook_1\n",
      "-- question: Please list all album titles in alphabetical order.\n",
      "SELECT Title FROM ALBUM ORDER BY Title\n",
      "\n",
      "==========\n",
      "\n",
      "\n",
      "67m.sql\n",
      "==========\n",
      "-- db_id: chinook_1\n",
      "-- question: What are all the album titles, in alphabetical order?\n",
      "SELECT Title FROM ALBUM ORDER BY Title\n",
      "\n",
      "==========\n",
      "\n",
      "\n",
      "68m.sql\n",
      "==========\n",
      "-- db_id: chinook_1\n",
      "-- question: Please list the name and id of all artists that have at least 3 albums in alphabetical order.\n",
      "SELECT T2.Name ,  T1.ArtistId FROM ALBUM AS T1 JOIN ARTIST AS T2 ON T1.ArtistId  =  T2.ArtistID GROUP BY T1.ArtistId HAVING COUNT(*)  >=  3 ORDER BY T2.Name\n",
      "\n",
      "==========\n",
      "\n",
      "\n",
      "69m.sql\n",
      "==========\n",
      "-- db_id: chinook_1\n",
      "-- question: What are the names and ids of artists with 3 or more albums, listed in alphabetical order?\n",
      "SELECT T2.Name ,  T1.ArtistId FROM ALBUM AS T1 JOIN ARTIST AS T2 ON T1.ArtistId  =  T2.ArtistID GROUP BY T1.ArtistId HAVING COUNT(*)  >=  3 ORDER BY T2.Name\n",
      "\n",
      "==========\n",
      "\n",
      "\n",
      "70m.sql\n",
      "==========\n",
      "-- db_id: chinook_1\n",
      "-- question: Find the names of artists that do not have any albums.\n",
      "SELECT Name FROM ARTIST EXCEPT SELECT T2.Name FROM ALBUM AS T1 JOIN ARTIST AS T2 ON T1.ArtistId  =  T2.ArtistId\n",
      "\n",
      "==========\n",
      "\n",
      "\n",
      "71m.sql\n",
      "==========\n",
      "-- db_id: chinook_1\n",
      "-- question: What are the names of artists who have not released any albums?\n",
      "SELECT Name FROM ARTIST EXCEPT SELECT T2.Name FROM ALBUM AS T1 JOIN ARTIST AS T2 ON T1.ArtistId  =  T2.ArtistId\n",
      "\n",
      "==========\n",
      "\n",
      "\n",
      "72m.sql\n",
      "==========\n",
      "-- db_id: chinook_1\n",
      "-- question: What is the average unit price of rock tracks?\n",
      "SELECT AVG(T2.UnitPrice) FROM GENRE AS T1 JOIN TRACK AS T2 ON T1.GenreId  =  T2.GenreId WHERE T1.Name  =  'Rock'\n",
      "\n",
      "==========\n",
      "\n",
      "\n",
      "73m.sql\n",
      "==========\n",
      "-- db_id: chinook_1\n",
      "-- question: Find the average unit price of tracks from the Rock genre.\n",
      "SELECT AVG(T2.UnitPrice) FROM GENRE AS T1 JOIN TRACK AS T2 ON T1.GenreId  =  T2.GenreId WHERE T1.Name  =  'Rock'\n",
      "\n",
      "==========\n",
      "\n",
      "\n",
      "74m.sql\n",
      "==========\n",
      "-- db_id: chinook_1\n",
      "-- question: What are the duration of the longest and shortest pop tracks in milliseconds?\n",
      "SELECT max(Milliseconds) ,  min(Milliseconds) FROM GENRE AS T1 JOIN TRACK AS T2 ON T1.GenreId  =  T2.GenreId WHERE T1.Name  =  'Pop'\n",
      "\n",
      "==========\n",
      "\n",
      "\n",
      "75m.sql\n",
      "==========\n",
      "-- db_id: chinook_1\n",
      "-- question: Find the maximum and minimum millisecond lengths of pop tracks.\n",
      "SELECT max(Milliseconds) ,  min(Milliseconds) FROM GENRE AS T1 JOIN TRACK AS T2 ON T1.GenreId  =  T2.GenreId WHERE T1.Name  =  'Pop'\n",
      "\n",
      "==========\n",
      "\n",
      "\n",
      "76m.sql\n",
      "==========\n",
      "-- db_id: chinook_1\n",
      "-- question: What are the birth dates of employees living in Edmonton?\n",
      "SELECT BirthDate FROM EMPLOYEE WHERE City  =  'Edmonton'\n",
      "\n",
      "==========\n",
      "\n",
      "\n",
      "77m.sql\n",
      "==========\n",
      "-- db_id: chinook_1\n",
      "-- question: Find the birth dates corresponding to employees who live in the city of Edmonton.\n",
      "SELECT BirthDate FROM EMPLOYEE WHERE City  =  'Edmonton'\n",
      "\n",
      "==========\n",
      "\n",
      "\n",
      "78m.sql\n",
      "==========\n",
      "-- db_id: chinook_1\n",
      "-- question: What are the distinct unit prices of all tracks?\n",
      "SELECT distinct(UnitPrice) FROM TRACK\n",
      "\n",
      "==========\n",
      "\n",
      "\n",
      "79m.sql\n",
      "==========\n",
      "-- db_id: chinook_1\n",
      "-- question: Find the distinct unit prices for tracks.\n",
      "SELECT distinct(UnitPrice) FROM TRACK\n",
      "\n",
      "==========\n",
      "\n",
      "\n",
      "80m.sql\n",
      "==========\n",
      "-- db_id: chinook_1\n",
      "-- question: How many artists do not have any album?\n",
      "SELECT count(*) FROM ARTIST WHERE artistid NOT IN(SELECT artistid FROM ALBUM)\n",
      "\n",
      "==========\n",
      "\n",
      "\n",
      "81m.sql\n",
      "==========\n",
      "-- db_id: chinook_1\n",
      "-- question: Cound the number of artists who have not released an album.\n",
      "SELECT count(*) FROM ARTIST WHERE artistid NOT IN(SELECT artistid FROM ALBUM)\n",
      "\n",
      "==========\n",
      "\n",
      "\n",
      "82m.sql\n",
      "==========\n",
      "-- db_id: chinook_1\n",
      "-- question: What are the album titles for albums containing both 'Reggae' and 'Rock' genre tracks?\n",
      "SELECT T1.Title FROM Album AS T1 JOIN Track AS T2 ON T1.AlbumId  =  T2.AlbumId JOIN Genre AS T3 ON T2.GenreID  =  T3.GenreID WHERE T3.Name  =  'Reggae' INTERSECT SELECT T1.Title FROM Album AS T1 JOIN Track AS T2 ON T1.AlbumId  =  T2.AlbumId JOIN Genre AS T3 ON T2.GenreID  =  T3.GenreID WHERE T3.Name  =  'Rock'\n",
      "\n",
      "==========\n",
      "\n",
      "\n",
      "83m.sql\n",
      "==========\n",
      "-- db_id: chinook_1\n",
      "-- question: Find the titles of albums that contain tracks of both the Reggae and Rock genres.\n",
      "SELECT T1.Title FROM Album AS T1 JOIN Track AS T2 ON T1.AlbumId  =  T2.AlbumId JOIN Genre AS T3 ON T2.GenreID  =  T3.GenreID WHERE T3.Name  =  'Reggae' INTERSECT SELECT T1.Title FROM Album AS T1 JOIN Track AS T2 ON T1.AlbumId  =  T2.AlbumId JOIN Genre AS T3 ON T2.GenreID  =  T3.GenreID WHERE T3.Name  =  'Rock'\n",
      "\n",
      "==========\n",
      "\n",
      "\n"
     ]
    }
   ],
   "source": [
    "for key, content in original_query_dict.items():\n",
    "    print(f\"{key}m.sql\\n==========\\n{content}\\n==========\\n\\n\")"
   ]
  },
  {
   "cell_type": "code",
   "execution_count": 82,
   "metadata": {},
   "outputs": [],
   "source": [
    "def rewrite_query():\n",
    "    rewritten_query_list = []\n",
    "\n",
    "    for qnum in tqdm(QUERY_RANGE):\n",
    "        query = original_query_dict[qnum]\n",
    "\n",
    "        query_prompt = prompt.replace(\"{{INPUT_SQL_QUERY}}\", query)\n",
    "\n",
    "        rewrite_start_time = time.time()\n",
    "        response = gpt_call(model_id=\"gpt-4-turbo\", system=None, prompt=query_prompt, verbose=False)\n",
    "        rewrite_time = time.time() - rewrite_start_time\n",
    "\n",
    "        rewritten_query_list.append({\"query\": response, \"time\": rewrite_time})\n",
    "\n",
    "    return rewritten_query_list"
   ]
  },
  {
   "cell_type": "code",
   "execution_count": 83,
   "metadata": {},
   "outputs": [
    {
     "name": "stderr",
     "output_type": "stream",
     "text": [
      "  1%|          | 1/84 [00:00<01:18,  1.06it/s]"
     ]
    },
    {
     "name": "stdout",
     "output_type": "stream",
     "text": [
      "Time Elapsed: 0.94481 sec\n"
     ]
    },
    {
     "name": "stderr",
     "output_type": "stream",
     "text": [
      "  2%|▏         | 2/84 [00:02<01:24,  1.03s/it]"
     ]
    },
    {
     "name": "stdout",
     "output_type": "stream",
     "text": [
      "Time Elapsed: 1.08095 sec\n"
     ]
    },
    {
     "name": "stderr",
     "output_type": "stream",
     "text": [
      "  4%|▎         | 3/84 [00:02<01:14,  1.09it/s]"
     ]
    },
    {
     "name": "stdout",
     "output_type": "stream",
     "text": [
      "Time Elapsed: 0.78548 sec\n"
     ]
    },
    {
     "name": "stderr",
     "output_type": "stream",
     "text": [
      "  5%|▍         | 4/84 [00:03<01:09,  1.15it/s]"
     ]
    },
    {
     "name": "stdout",
     "output_type": "stream",
     "text": [
      "Time Elapsed: 0.80563 sec\n"
     ]
    },
    {
     "name": "stderr",
     "output_type": "stream",
     "text": [
      "  6%|▌         | 5/84 [00:05<01:40,  1.27s/it]"
     ]
    },
    {
     "name": "stdout",
     "output_type": "stream",
     "text": [
      "Time Elapsed: 1.98273 sec\n"
     ]
    },
    {
     "name": "stderr",
     "output_type": "stream",
     "text": [
      "  7%|▋         | 6/84 [00:10<03:26,  2.65s/it]"
     ]
    },
    {
     "name": "stdout",
     "output_type": "stream",
     "text": [
      "Time Elapsed: 5.31246 sec\n"
     ]
    },
    {
     "name": "stderr",
     "output_type": "stream",
     "text": [
      "  8%|▊         | 7/84 [00:13<03:09,  2.46s/it]"
     ]
    },
    {
     "name": "stdout",
     "output_type": "stream",
     "text": [
      "Time Elapsed: 2.08771 sec\n"
     ]
    },
    {
     "name": "stderr",
     "output_type": "stream",
     "text": [
      " 10%|▉         | 8/84 [00:16<03:20,  2.64s/it]"
     ]
    },
    {
     "name": "stdout",
     "output_type": "stream",
     "text": [
      "Time Elapsed: 3.01373 sec\n"
     ]
    },
    {
     "name": "stderr",
     "output_type": "stream",
     "text": [
      " 11%|█         | 9/84 [00:17<02:43,  2.18s/it]"
     ]
    },
    {
     "name": "stdout",
     "output_type": "stream",
     "text": [
      "Time Elapsed: 1.16057 sec\n"
     ]
    },
    {
     "name": "stderr",
     "output_type": "stream",
     "text": [
      " 12%|█▏        | 10/84 [00:18<02:12,  1.79s/it]"
     ]
    },
    {
     "name": "stdout",
     "output_type": "stream",
     "text": [
      "Time Elapsed: 0.92036 sec\n"
     ]
    },
    {
     "name": "stderr",
     "output_type": "stream",
     "text": [
      " 13%|█▎        | 11/84 [00:19<02:10,  1.78s/it]"
     ]
    },
    {
     "name": "stdout",
     "output_type": "stream",
     "text": [
      "Time Elapsed: 1.76722 sec\n"
     ]
    },
    {
     "name": "stderr",
     "output_type": "stream",
     "text": [
      " 14%|█▍        | 12/84 [00:22<02:21,  1.97s/it]"
     ]
    },
    {
     "name": "stdout",
     "output_type": "stream",
     "text": [
      "Time Elapsed: 2.39720 sec\n"
     ]
    },
    {
     "name": "stderr",
     "output_type": "stream",
     "text": [
      " 15%|█▌        | 13/84 [00:24<02:20,  1.99s/it]"
     ]
    },
    {
     "name": "stdout",
     "output_type": "stream",
     "text": [
      "Time Elapsed: 2.02142 sec\n"
     ]
    },
    {
     "name": "stderr",
     "output_type": "stream",
     "text": [
      " 17%|█▋        | 14/84 [00:26<02:17,  1.96s/it]"
     ]
    },
    {
     "name": "stdout",
     "output_type": "stream",
     "text": [
      "Time Elapsed: 1.89015 sec\n"
     ]
    },
    {
     "name": "stderr",
     "output_type": "stream",
     "text": [
      " 18%|█▊        | 15/84 [00:27<02:10,  1.89s/it]"
     ]
    },
    {
     "name": "stdout",
     "output_type": "stream",
     "text": [
      "Time Elapsed: 1.74136 sec\n"
     ]
    },
    {
     "name": "stderr",
     "output_type": "stream",
     "text": [
      " 19%|█▉        | 16/84 [00:29<02:09,  1.91s/it]"
     ]
    },
    {
     "name": "stdout",
     "output_type": "stream",
     "text": [
      "Time Elapsed: 1.95556 sec\n"
     ]
    },
    {
     "name": "stderr",
     "output_type": "stream",
     "text": [
      " 20%|██        | 17/84 [00:31<02:06,  1.89s/it]"
     ]
    },
    {
     "name": "stdout",
     "output_type": "stream",
     "text": [
      "Time Elapsed: 1.85309 sec\n"
     ]
    },
    {
     "name": "stderr",
     "output_type": "stream",
     "text": [
      " 21%|██▏       | 18/84 [00:33<01:59,  1.81s/it]"
     ]
    },
    {
     "name": "stdout",
     "output_type": "stream",
     "text": [
      "Time Elapsed: 1.61679 sec\n"
     ]
    },
    {
     "name": "stderr",
     "output_type": "stream",
     "text": [
      " 23%|██▎       | 19/84 [00:36<02:30,  2.32s/it]"
     ]
    },
    {
     "name": "stdout",
     "output_type": "stream",
     "text": [
      "Time Elapsed: 3.49955 sec\n"
     ]
    },
    {
     "name": "stderr",
     "output_type": "stream",
     "text": [
      " 24%|██▍       | 20/84 [00:40<02:51,  2.68s/it]"
     ]
    },
    {
     "name": "stdout",
     "output_type": "stream",
     "text": [
      "Time Elapsed: 3.52495 sec\n"
     ]
    },
    {
     "name": "stderr",
     "output_type": "stream",
     "text": [
      " 25%|██▌       | 21/84 [00:42<02:39,  2.53s/it]"
     ]
    },
    {
     "name": "stdout",
     "output_type": "stream",
     "text": [
      "Time Elapsed: 2.18882 sec\n"
     ]
    },
    {
     "name": "stderr",
     "output_type": "stream",
     "text": [
      " 26%|██▌       | 22/84 [00:47<03:21,  3.24s/it]"
     ]
    },
    {
     "name": "stdout",
     "output_type": "stream",
     "text": [
      "Time Elapsed: 4.90113 sec\n"
     ]
    },
    {
     "name": "stderr",
     "output_type": "stream",
     "text": [
      " 27%|██▋       | 23/84 [00:48<02:32,  2.51s/it]"
     ]
    },
    {
     "name": "stdout",
     "output_type": "stream",
     "text": [
      "Time Elapsed: 0.78729 sec\n"
     ]
    },
    {
     "name": "stderr",
     "output_type": "stream",
     "text": [
      " 29%|██▊       | 24/84 [00:49<02:09,  2.16s/it]"
     ]
    },
    {
     "name": "stdout",
     "output_type": "stream",
     "text": [
      "Time Elapsed: 1.35715 sec\n"
     ]
    },
    {
     "name": "stderr",
     "output_type": "stream",
     "text": [
      " 30%|██▉       | 25/84 [00:51<02:03,  2.09s/it]"
     ]
    },
    {
     "name": "stdout",
     "output_type": "stream",
     "text": [
      "Time Elapsed: 1.91633 sec\n"
     ]
    },
    {
     "name": "stderr",
     "output_type": "stream",
     "text": [
      " 31%|███       | 26/84 [00:52<01:48,  1.88s/it]"
     ]
    },
    {
     "name": "stdout",
     "output_type": "stream",
     "text": [
      "Time Elapsed: 1.38521 sec\n"
     ]
    },
    {
     "name": "stderr",
     "output_type": "stream",
     "text": [
      " 32%|███▏      | 27/84 [00:57<02:40,  2.81s/it]"
     ]
    },
    {
     "name": "stdout",
     "output_type": "stream",
     "text": [
      "Time Elapsed: 4.97594 sec\n"
     ]
    },
    {
     "name": "stderr",
     "output_type": "stream",
     "text": [
      " 33%|███▎      | 28/84 [00:59<02:19,  2.50s/it]"
     ]
    },
    {
     "name": "stdout",
     "output_type": "stream",
     "text": [
      "Time Elapsed: 1.77976 sec\n"
     ]
    },
    {
     "name": "stderr",
     "output_type": "stream",
     "text": [
      " 35%|███▍      | 29/84 [01:02<02:20,  2.55s/it]"
     ]
    },
    {
     "name": "stdout",
     "output_type": "stream",
     "text": [
      "Time Elapsed: 2.66674 sec\n"
     ]
    },
    {
     "name": "stderr",
     "output_type": "stream",
     "text": [
      " 36%|███▌      | 30/84 [01:05<02:20,  2.60s/it]"
     ]
    },
    {
     "name": "stdout",
     "output_type": "stream",
     "text": [
      "Time Elapsed: 2.70632 sec\n"
     ]
    },
    {
     "name": "stderr",
     "output_type": "stream",
     "text": [
      " 37%|███▋      | 31/84 [01:09<02:53,  3.27s/it]"
     ]
    },
    {
     "name": "stdout",
     "output_type": "stream",
     "text": [
      "Time Elapsed: 4.83089 sec\n"
     ]
    },
    {
     "name": "stderr",
     "output_type": "stream",
     "text": [
      " 38%|███▊      | 32/84 [01:12<02:44,  3.16s/it]"
     ]
    },
    {
     "name": "stdout",
     "output_type": "stream",
     "text": [
      "Time Elapsed: 2.91812 sec\n"
     ]
    },
    {
     "name": "stderr",
     "output_type": "stream",
     "text": [
      " 39%|███▉      | 33/84 [01:18<03:26,  4.05s/it]"
     ]
    },
    {
     "name": "stdout",
     "output_type": "stream",
     "text": [
      "Time Elapsed: 6.10660 sec\n"
     ]
    },
    {
     "name": "stderr",
     "output_type": "stream",
     "text": [
      " 40%|████      | 34/84 [01:24<03:43,  4.46s/it]"
     ]
    },
    {
     "name": "stdout",
     "output_type": "stream",
     "text": [
      "Time Elapsed: 5.42862 sec\n"
     ]
    },
    {
     "name": "stderr",
     "output_type": "stream",
     "text": [
      " 42%|████▏     | 35/84 [01:25<02:51,  3.49s/it]"
     ]
    },
    {
     "name": "stdout",
     "output_type": "stream",
     "text": [
      "Time Elapsed: 1.22504 sec\n"
     ]
    },
    {
     "name": "stderr",
     "output_type": "stream",
     "text": [
      " 43%|████▎     | 36/84 [01:27<02:18,  2.90s/it]"
     ]
    },
    {
     "name": "stdout",
     "output_type": "stream",
     "text": [
      "Time Elapsed: 1.50592 sec\n"
     ]
    },
    {
     "name": "stderr",
     "output_type": "stream",
     "text": [
      " 44%|████▍     | 37/84 [01:30<02:20,  2.98s/it]"
     ]
    },
    {
     "name": "stdout",
     "output_type": "stream",
     "text": [
      "Time Elapsed: 3.18447 sec\n"
     ]
    },
    {
     "name": "stderr",
     "output_type": "stream",
     "text": [
      " 45%|████▌     | 38/84 [01:32<02:07,  2.77s/it]"
     ]
    },
    {
     "name": "stdout",
     "output_type": "stream",
     "text": [
      "Time Elapsed: 2.28548 sec\n"
     ]
    },
    {
     "name": "stderr",
     "output_type": "stream",
     "text": [
      " 46%|████▋     | 39/84 [01:34<01:55,  2.56s/it]"
     ]
    },
    {
     "name": "stdout",
     "output_type": "stream",
     "text": [
      "Time Elapsed: 2.05261 sec\n"
     ]
    },
    {
     "name": "stderr",
     "output_type": "stream",
     "text": [
      " 48%|████▊     | 40/84 [01:39<02:26,  3.33s/it]"
     ]
    },
    {
     "name": "stdout",
     "output_type": "stream",
     "text": [
      "Time Elapsed: 5.13646 sec\n"
     ]
    },
    {
     "name": "stderr",
     "output_type": "stream",
     "text": [
      " 49%|████▉     | 41/84 [01:40<01:54,  2.65s/it]"
     ]
    },
    {
     "name": "stdout",
     "output_type": "stream",
     "text": [
      "Time Elapsed: 1.07562 sec\n"
     ]
    },
    {
     "name": "stderr",
     "output_type": "stream",
     "text": [
      " 50%|█████     | 42/84 [01:44<02:00,  2.86s/it]"
     ]
    },
    {
     "name": "stdout",
     "output_type": "stream",
     "text": [
      "Time Elapsed: 3.34557 sec\n"
     ]
    },
    {
     "name": "stderr",
     "output_type": "stream",
     "text": [
      " 51%|█████     | 43/84 [01:46<01:50,  2.70s/it]"
     ]
    },
    {
     "name": "stdout",
     "output_type": "stream",
     "text": [
      "Time Elapsed: 2.33080 sec\n"
     ]
    },
    {
     "name": "stderr",
     "output_type": "stream",
     "text": [
      " 52%|█████▏    | 44/84 [01:48<01:42,  2.56s/it]"
     ]
    },
    {
     "name": "stdout",
     "output_type": "stream",
     "text": [
      "Time Elapsed: 2.21314 sec\n"
     ]
    },
    {
     "name": "stderr",
     "output_type": "stream",
     "text": [
      " 54%|█████▎    | 45/84 [01:50<01:36,  2.47s/it]"
     ]
    },
    {
     "name": "stdout",
     "output_type": "stream",
     "text": [
      "Time Elapsed: 2.26853 sec\n"
     ]
    },
    {
     "name": "stderr",
     "output_type": "stream",
     "text": [
      " 55%|█████▍    | 46/84 [01:53<01:34,  2.48s/it]"
     ]
    },
    {
     "name": "stdout",
     "output_type": "stream",
     "text": [
      "Time Elapsed: 2.48978 sec\n"
     ]
    },
    {
     "name": "stderr",
     "output_type": "stream",
     "text": [
      " 56%|█████▌    | 47/84 [01:58<02:00,  3.25s/it]"
     ]
    },
    {
     "name": "stdout",
     "output_type": "stream",
     "text": [
      "Time Elapsed: 5.05224 sec\n"
     ]
    },
    {
     "name": "stderr",
     "output_type": "stream",
     "text": [
      " 57%|█████▋    | 48/84 [02:00<01:43,  2.88s/it]"
     ]
    },
    {
     "name": "stdout",
     "output_type": "stream",
     "text": [
      "Time Elapsed: 2.01303 sec\n"
     ]
    },
    {
     "name": "stderr",
     "output_type": "stream",
     "text": [
      " 58%|█████▊    | 49/84 [02:05<02:03,  3.53s/it]"
     ]
    },
    {
     "name": "stdout",
     "output_type": "stream",
     "text": [
      "Time Elapsed: 5.05570 sec\n"
     ]
    },
    {
     "name": "stderr",
     "output_type": "stream",
     "text": [
      " 60%|█████▉    | 50/84 [02:07<01:42,  3.02s/it]"
     ]
    },
    {
     "name": "stdout",
     "output_type": "stream",
     "text": [
      "Time Elapsed: 1.83466 sec\n"
     ]
    },
    {
     "name": "stderr",
     "output_type": "stream",
     "text": [
      " 61%|██████    | 51/84 [02:09<01:30,  2.74s/it]"
     ]
    },
    {
     "name": "stdout",
     "output_type": "stream",
     "text": [
      "Time Elapsed: 2.08527 sec\n"
     ]
    },
    {
     "name": "stderr",
     "output_type": "stream",
     "text": [
      " 62%|██████▏   | 52/84 [02:12<01:26,  2.69s/it]"
     ]
    },
    {
     "name": "stdout",
     "output_type": "stream",
     "text": [
      "Time Elapsed: 2.57991 sec\n"
     ]
    },
    {
     "name": "stderr",
     "output_type": "stream",
     "text": [
      " 63%|██████▎   | 53/84 [02:15<01:31,  2.96s/it]"
     ]
    },
    {
     "name": "stdout",
     "output_type": "stream",
     "text": [
      "Time Elapsed: 3.57668 sec\n"
     ]
    },
    {
     "name": "stderr",
     "output_type": "stream",
     "text": [
      " 64%|██████▍   | 54/84 [02:17<01:19,  2.67s/it]"
     ]
    },
    {
     "name": "stdout",
     "output_type": "stream",
     "text": [
      "Time Elapsed: 1.98015 sec\n"
     ]
    },
    {
     "name": "stderr",
     "output_type": "stream",
     "text": [
      " 65%|██████▌   | 55/84 [02:19<01:10,  2.43s/it]"
     ]
    },
    {
     "name": "stdout",
     "output_type": "stream",
     "text": [
      "Time Elapsed: 1.86376 sec\n"
     ]
    },
    {
     "name": "stderr",
     "output_type": "stream",
     "text": [
      " 67%|██████▋   | 56/84 [02:24<01:31,  3.27s/it]"
     ]
    },
    {
     "name": "stdout",
     "output_type": "stream",
     "text": [
      "Time Elapsed: 5.22463 sec\n"
     ]
    },
    {
     "name": "stderr",
     "output_type": "stream",
     "text": [
      " 68%|██████▊   | 57/84 [02:25<01:09,  2.56s/it]"
     ]
    },
    {
     "name": "stdout",
     "output_type": "stream",
     "text": [
      "Time Elapsed: 0.92134 sec\n"
     ]
    },
    {
     "name": "stderr",
     "output_type": "stream",
     "text": [
      " 69%|██████▉   | 58/84 [02:26<00:53,  2.07s/it]"
     ]
    },
    {
     "name": "stdout",
     "output_type": "stream",
     "text": [
      "Time Elapsed: 0.92312 sec\n"
     ]
    },
    {
     "name": "stderr",
     "output_type": "stream",
     "text": [
      " 70%|███████   | 59/84 [02:30<01:06,  2.65s/it]"
     ]
    },
    {
     "name": "stdout",
     "output_type": "stream",
     "text": [
      "Time Elapsed: 3.98641 sec\n"
     ]
    },
    {
     "name": "stderr",
     "output_type": "stream",
     "text": [
      " 71%|███████▏  | 60/84 [02:32<01:01,  2.56s/it]"
     ]
    },
    {
     "name": "stdout",
     "output_type": "stream",
     "text": [
      "Time Elapsed: 2.37103 sec\n"
     ]
    },
    {
     "name": "stderr",
     "output_type": "stream",
     "text": [
      " 73%|███████▎  | 61/84 [02:39<01:26,  3.77s/it]"
     ]
    },
    {
     "name": "stdout",
     "output_type": "stream",
     "text": [
      "Time Elapsed: 6.59173 sec\n"
     ]
    },
    {
     "name": "stderr",
     "output_type": "stream",
     "text": [
      " 74%|███████▍  | 62/84 [02:41<01:12,  3.28s/it]"
     ]
    },
    {
     "name": "stdout",
     "output_type": "stream",
     "text": [
      "Time Elapsed: 2.13698 sec\n"
     ]
    },
    {
     "name": "stderr",
     "output_type": "stream",
     "text": [
      " 75%|███████▌  | 63/84 [02:45<01:10,  3.36s/it]"
     ]
    },
    {
     "name": "stdout",
     "output_type": "stream",
     "text": [
      "Time Elapsed: 3.53088 sec\n"
     ]
    },
    {
     "name": "stderr",
     "output_type": "stream",
     "text": [
      " 76%|███████▌  | 64/84 [02:47<01:01,  3.08s/it]"
     ]
    },
    {
     "name": "stdout",
     "output_type": "stream",
     "text": [
      "Time Elapsed: 2.42891 sec\n"
     ]
    },
    {
     "name": "stderr",
     "output_type": "stream",
     "text": [
      " 77%|███████▋  | 65/84 [02:50<00:57,  3.04s/it]"
     ]
    },
    {
     "name": "stdout",
     "output_type": "stream",
     "text": [
      "Time Elapsed: 2.96123 sec\n"
     ]
    },
    {
     "name": "stderr",
     "output_type": "stream",
     "text": [
      " 79%|███████▊  | 66/84 [02:55<01:04,  3.61s/it]"
     ]
    },
    {
     "name": "stdout",
     "output_type": "stream",
     "text": [
      "Time Elapsed: 4.91865 sec\n"
     ]
    },
    {
     "name": "stderr",
     "output_type": "stream",
     "text": [
      " 80%|███████▉  | 67/84 [02:57<00:50,  2.99s/it]"
     ]
    },
    {
     "name": "stdout",
     "output_type": "stream",
     "text": [
      "Time Elapsed: 1.56244 sec\n"
     ]
    },
    {
     "name": "stderr",
     "output_type": "stream",
     "text": [
      " 81%|████████  | 68/84 [02:58<00:38,  2.42s/it]"
     ]
    },
    {
     "name": "stdout",
     "output_type": "stream",
     "text": [
      "Time Elapsed: 1.06684 sec\n"
     ]
    },
    {
     "name": "stderr",
     "output_type": "stream",
     "text": [
      " 82%|████████▏ | 69/84 [03:02<00:47,  3.14s/it]"
     ]
    },
    {
     "name": "stdout",
     "output_type": "stream",
     "text": [
      "Time Elapsed: 4.83821 sec\n"
     ]
    },
    {
     "name": "stderr",
     "output_type": "stream",
     "text": [
      " 83%|████████▎ | 70/84 [03:05<00:40,  2.92s/it]"
     ]
    },
    {
     "name": "stdout",
     "output_type": "stream",
     "text": [
      "Time Elapsed: 2.39151 sec\n"
     ]
    },
    {
     "name": "stderr",
     "output_type": "stream",
     "text": [
      " 85%|████████▍ | 71/84 [03:07<00:34,  2.67s/it]"
     ]
    },
    {
     "name": "stdout",
     "output_type": "stream",
     "text": [
      "Time Elapsed: 2.09391 sec\n"
     ]
    },
    {
     "name": "stderr",
     "output_type": "stream",
     "text": [
      " 86%|████████▌ | 72/84 [03:09<00:29,  2.44s/it]"
     ]
    },
    {
     "name": "stdout",
     "output_type": "stream",
     "text": [
      "Time Elapsed: 1.91304 sec\n"
     ]
    },
    {
     "name": "stderr",
     "output_type": "stream",
     "text": [
      " 87%|████████▋ | 73/84 [03:11<00:25,  2.34s/it]"
     ]
    },
    {
     "name": "stdout",
     "output_type": "stream",
     "text": [
      "Time Elapsed: 2.11273 sec\n"
     ]
    },
    {
     "name": "stderr",
     "output_type": "stream",
     "text": [
      " 88%|████████▊ | 74/84 [03:13<00:22,  2.27s/it]"
     ]
    },
    {
     "name": "stdout",
     "output_type": "stream",
     "text": [
      "Time Elapsed: 2.08898 sec\n"
     ]
    },
    {
     "name": "stderr",
     "output_type": "stream",
     "text": [
      " 89%|████████▉ | 75/84 [03:16<00:21,  2.39s/it]"
     ]
    },
    {
     "name": "stdout",
     "output_type": "stream",
     "text": [
      "Time Elapsed: 2.65773 sec\n"
     ]
    },
    {
     "name": "stderr",
     "output_type": "stream",
     "text": [
      " 90%|█████████ | 76/84 [03:19<00:22,  2.76s/it]"
     ]
    },
    {
     "name": "stdout",
     "output_type": "stream",
     "text": [
      "Time Elapsed: 3.62569 sec\n"
     ]
    },
    {
     "name": "stderr",
     "output_type": "stream",
     "text": [
      " 92%|█████████▏| 77/84 [03:21<00:16,  2.37s/it]"
     ]
    },
    {
     "name": "stdout",
     "output_type": "stream",
     "text": [
      "Time Elapsed: 1.46635 sec\n"
     ]
    },
    {
     "name": "stderr",
     "output_type": "stream",
     "text": [
      " 93%|█████████▎| 78/84 [03:22<00:11,  1.96s/it]"
     ]
    },
    {
     "name": "stdout",
     "output_type": "stream",
     "text": [
      "Time Elapsed: 0.98800 sec\n"
     ]
    },
    {
     "name": "stderr",
     "output_type": "stream",
     "text": [
      " 94%|█████████▍| 79/84 [03:23<00:08,  1.69s/it]"
     ]
    },
    {
     "name": "stdout",
     "output_type": "stream",
     "text": [
      "Time Elapsed: 1.06522 sec\n"
     ]
    },
    {
     "name": "stderr",
     "output_type": "stream",
     "text": [
      " 95%|█████████▌| 80/84 [03:24<00:06,  1.66s/it]"
     ]
    },
    {
     "name": "stdout",
     "output_type": "stream",
     "text": [
      "Time Elapsed: 1.59513 sec\n"
     ]
    },
    {
     "name": "stderr",
     "output_type": "stream",
     "text": [
      " 96%|█████████▋| 81/84 [03:27<00:05,  1.86s/it]"
     ]
    },
    {
     "name": "stdout",
     "output_type": "stream",
     "text": [
      "Time Elapsed: 2.31278 sec\n"
     ]
    },
    {
     "name": "stderr",
     "output_type": "stream",
     "text": [
      " 98%|█████████▊| 82/84 [03:30<00:04,  2.13s/it]"
     ]
    },
    {
     "name": "stdout",
     "output_type": "stream",
     "text": [
      "Time Elapsed: 2.78334 sec\n"
     ]
    },
    {
     "name": "stderr",
     "output_type": "stream",
     "text": [
      " 99%|█████████▉| 83/84 [03:35<00:03,  3.11s/it]"
     ]
    },
    {
     "name": "stdout",
     "output_type": "stream",
     "text": [
      "Time Elapsed: 5.36914 sec\n"
     ]
    },
    {
     "name": "stderr",
     "output_type": "stream",
     "text": [
      "100%|██████████| 84/84 [03:42<00:00,  2.64s/it]"
     ]
    },
    {
     "name": "stdout",
     "output_type": "stream",
     "text": [
      "Time Elapsed: 6.56365 sec\n"
     ]
    },
    {
     "name": "stderr",
     "output_type": "stream",
     "text": [
      "\n"
     ]
    }
   ],
   "source": [
    "rewritten_query = rewrite_query()"
   ]
  },
  {
   "cell_type": "code",
   "execution_count": 86,
   "metadata": {},
   "outputs": [
    {
     "name": "stdout",
     "output_type": "stream",
     "text": [
      "[{'query': '```sql\\nSELECT count(*) FROM Album;\\n```', 'time': 0.9448933601379395}, {'query': '```sql\\nSELECT count(*) FROM Album;\\n```', 'time': 1.0810391902923584}, {'query': '```sql\\nSELECT Name FROM Genre;\\n```', 'time': 0.7855658531188965}, {'query': '```sql\\nSELECT Name FROM Genre\\n```', 'time': 0.8057162761688232}, {'query': \"```sql\\nSELECT CustomerId, FirstName, LastName, Company, Address, City, State, Country, PostalCode, Phone, Fax, Email, SupportRepId \\nFROM Customer \\nWHERE State = 'NY';\\n```\", 'time': 1.9828109741210938}, {'query': \"```sql\\nSELECT CustomerId, FirstName, LastName, Company, Address, City, State, Country, PostalCode, Phone, Fax, Email, SupportRepId \\nFROM Customer \\nWHERE State = 'NY'\\n```\", 'time': 5.312546968460083}, {'query': \"```sql\\n-- The original query is already very efficient as it has targeted only necessary columns and uses a direct filter on the WHERE clause.\\nSELECT FirstName, LastName FROM Employee WHERE City = 'Calgary';\\n```\", 'time': 2.0877981185913086}, {'query': \"```sql\\nSELECT FirstName, LastName FROM Employee WHERE City = 'Calgary'\\n```\\n\\nExplanation: The provided query is already optimal since it directly retrieves the required columns from the Employee table, uses a WHERE clause on the column City that likely has a low selectivity, and does not include any unnecessary joins or subqueries. Additionally, indices are not provided for city names in the schema, so no indexing optimization can be applied specifically for enhancing the condition City = 'Calgary'.\", 'time': 3.0138165950775146}, {'query': '```sql\\nSELECT DISTINCT BillingCountry FROM Invoice;\\n```', 'time': 1.160654067993164}, {'query': '```sql\\nSELECT DISTINCT BillingCountry FROM Invoice;\\n```', 'time': 0.9204404354095459}, {'query': \"```sql\\n-- Utilize the indexed artist names and use ILIKE for case-insensitive search to improve performance where possible\\nSELECT Name FROM Artist WHERE Name ILIKE '%a%'\\n```\", 'time': 1.7673060894012451}, {'query': \"```sql\\nSELECT Name FROM Artist WHERE Name LIKE '%a%'\\n```\", 'time': 2.397291898727417}, {'query': \"```sql\\n-- Applying optimization by avoiding alias as it's unnecessary and using explicit JOIN\\nSELECT Album.Title \\nFROM Album\\nJOIN Artist ON Album.ArtistId = Artist.ArtistId \\nWHERE Artist.Name = 'AC/DC';\\n```\", 'time': 2.021507740020752}, {'query': '```sql\\n-- Optimized query for retrieving album titles by artist \"AC/DC\"\\nSELECT Title \\nFROM Album \\nJOIN Artist \\nON Album.ArtistId = Artist.ArtistId \\nWHERE Artist.Name = \\'AC/DC\\';\\n```', 'time': 1.8902297019958496}, {'query': \"```sql\\nSELECT COUNT(*) FROM Album\\nJOIN Artist ON Album.ArtistId = Artist.ArtistId\\nWHERE Artist.Name = 'Metallica';\\n```\", 'time': 1.7414500713348389}, {'query': \"```sql\\n-- Utilizing created index on Artist(ArtistId) to efficiently filter by artist name\\nSELECT COUNT(*) \\nFROM Album \\nJOIN Artist \\nON Album.ArtistId = Artist.ArtistId \\nWHERE Artist.Name = 'Metallica';\\n```\", 'time': 1.9556527137756348}, {'query': \"```sql\\nSELECT A.Name \\nFROM Artist AS A \\nJOIN Album AS B ON A.ArtistId = B.ArtistId \\nWHERE B.Title = 'Balls to the Wall'\\n```\", 'time': 1.8531734943389893}, {'query': \"```sql\\nSELECT Artist.Name \\nFROM Artist \\nJOIN Album ON Artist.ArtistId = Album.ArtistId \\nWHERE Album.Title = 'Balls to the Wall';\\n```\", 'time': 1.6168813705444336}, {'query': '```sql\\n-- This query is optimized to use an efficient join on the indexed ArtistId column and avoids using table aliases that do not enhance readability in this simple case.\\nSELECT Artist.Name\\nFROM Artist\\nJOIN Album ON Album.ArtistId = Artist.ArtistId\\nGROUP BY Artist.Name\\nORDER BY COUNT(*) DESC\\nLIMIT 1;\\n```', 'time': 3.49963641166687}, {'query': '```sql\\n-- Optimized SQL query for finding the artist with the greatest number of albums\\nSELECT A.Name\\nFROM Artist A\\nJOIN Album AL ON A.ArtistId = AL.ArtistId\\nGROUP BY A.Name\\nORDER BY COUNT(AL.AlbumId) DESC\\nLIMIT 1;\\n```', 'time': 3.525038719177246}, {'query': \"```sql\\n-- Leveraging the index IFK_TrackAlbumId for a potential benefit in searching, though the actual effectiveness would depend on the specifics of data and database engine optimizations.\\nSELECT Name FROM Track WHERE Name LIKE '%you%'\\n```\", 'time': 2.1889007091522217}, {'query': \"```sql\\nSELECT Name FROM Track WHERE Name LIKE '%you%'\\n```\\n\\nNote: The given query is a straightforward search by a pattern in the Name field using the `LIKE` operator. There are no joins, extra subselects, or inefficient aggregations. Additionally, optimization using indexes for `LIKE` queries containing wildcards at the beginning of the pattern ('%you%') is generally not possible because these indexes are typically only used when the pattern does not start with a wildcard. Thus, while indexing could improve performance for patterns without prefixed wildcards (e.g., 'you%'), the current query cannot be further optimized without altering its core functionality or restructuring the database itself with specific full-text search capabilities. Hence, the original query remains the most appropriate form for the intended search.\", 'time': 4.901218414306641}, {'query': '```sql\\nSELECT AVG(UnitPrice) FROM Track;\\n```', 'time': 0.7873749732971191}, {'query': '```sql\\n-- The input SQL query is already optimal for calculating the average unit price from the Track table.\\nSELECT AVG(UnitPrice) FROM Track;\\n```', 'time': 1.3572328090667725}, {'query': '```sql\\n-- The original query is efficient given its purpose; directly using aggregation functions without JOINs or subqueries.\\nSELECT MAX(Milliseconds) AS LongestDuration, MIN(Milliseconds) AS ShortestDuration FROM Track;\\n```', 'time': 1.916416883468628}, {'query': '```sql\\nSELECT MAX(Milliseconds) AS MaxDuration, MIN(Milliseconds) AS MinDuration FROM Track;\\n```', 'time': 1.3852901458740234}, {'query': '```sql\\n-- Optimized SQL query for showing album names, ids and the number of tracks for each album.\\nSELECT\\n    A.Title,\\n    A.AlbumId,\\n    COUNT(*) AS NumberOfTracks\\nFROM\\n    Album A\\nJOIN\\n    Track T ON A.AlbumId = T.AlbumId\\nGROUP BY\\n    A.AlbumId, A.Title;\\n```\\n\\nThis optimized query includes minor improvements, such as selecting from `Album` table directly in a more straightforward manner, grouping by both `AlbumId` and `Title` from the `Album` table for clarity and adherence to standard SQL practices that require all non-aggregated fields in the `SELECT` clause to appear in the `GROUP BY` clause. Note that the join condition and the structure of counting tracks are maintained efficiently respecting the specified indexes and relationships.', 'time': 4.976027965545654}, {'query': '```sql\\nSELECT Album.Title, Album.AlbumId, COUNT(Track.TrackId) AS NumberOfTracks\\nFROM Album\\nJOIN Track ON Album.AlbumId = Track.AlbumId\\nGROUP BY Album.AlbumId, Album.Title;\\n```', 'time': 1.7798502445220947}, {'query': '```sql\\n-- Optimized query to find the name of the most common genre in all tracks\\nSELECT G.Name\\nFROM Genre AS G\\nJOIN Track AS T ON G.GenreId = T.GenreId\\nGROUP BY G.GenreId, G.Name\\nORDER BY COUNT(T.TrackId) DESC\\nLIMIT 1;\\n```', 'time': 2.666826009750366}, {'query': '```sql\\n-- Optimized query using existing indexes and minimal joins\\nSELECT g.Name \\nFROM Genre g\\nJOIN Track t ON g.GenreId = t.GenreId\\nGROUP BY g.GenreId, g.Name\\nORDER BY COUNT(t.TrackId) DESC\\nLIMIT 1;\\n```', 'time': 2.7064032554626465}, {'query': '```sql\\n-- db_id: chinook_1\\n-- question: What is the least common media type in all tracks?\\nSELECT mt.Name \\nFROM MediaType AS mt\\nJOIN Track AS t ON mt.MediaTypeId = t.MediaTypeId \\nGROUP BY mt.MediaTypeId, mt.Name\\nORDER BY COUNT(*) ASC \\nLIMIT 1;\\n```\\n\\nThis optimized query provides the same intended result, but it includes `mt.Name` in the `GROUP BY` clause to ensure grouping accuracy, which leverages the indexed join on `MediaTypeId` between `MediaType` and `Track`. This adjustment ensures SQL compliance and potentially enhances performance with explicit column reference. The rest of the query arrangements and indexing use should efficiently achieve the desired \"least common media type\" outcome efficiently.', 'time': 4.830986261367798}, {'query': '```sql\\n-- Optimized query for finding the least common media type name across all tracks\\nSELECT MT.Name\\nFROM MediaType MT\\nJOIN Track T ON MT.MediaTypeId = T.MediaTypeId\\nGROUP BY MT.MediaTypeId, MT.Name\\nORDER BY COUNT(*) ASC\\nLIMIT 1;\\n```', 'time': 2.918207883834839}, {'query': '```sql\\n-- Optimized query to retrieve album names and ids for albums containing tracks with a unit price greater than 1\\nSELECT a.AlbumId, a.Title\\nFROM Album a\\nJOIN Track t ON a.AlbumId = t.AlbumId\\nWHERE t.UnitPrice > 1\\nGROUP BY a.AlbumId, a.Title;\\n``` \\nThis rewritten query maintains the intent of the original query and optimizes it by specifically selecting the AlbumId and Title from the Album table. The JOIN condition remains the same, and we add a GROUP BY clause that includes both a.AlbumId and a.Title based on SQL best practices for grouping with unique identifiers and improving query clarity. Additionally, this adjustment respects SQL standards for grouping, ensuring that all non-aggregated columns in the SELECT clause are listed in the GROUP BY clause.', 'time': 6.106687068939209}, {'query': \"```sql\\nSELECT a.Title, t.AlbumId\\nFROM Album a\\nJOIN Track t ON a.AlbumId = t.AlbumId\\nWHERE t.UnitPrice > 1\\nGROUP BY t.AlbumId, a.Title;\\n```\\n\\nIn this optimized query, the changes involved:\\n1. Aliases for tables were adjusted for clarity ('a' for Album, 't' for Track).\\n2. Included `a.Title` in the `GROUP BY` clause to ensure SQL standards compatibility. This prevents potential errors or warnings in some SQL database systems that require all selected columns in the `SELECT` clause to appear in the `GROUP BY` clause unless being used with an aggregation function.\\n3. Ensured that the `GROUP BY` clause is meticulous in specifying both columns used in the `SELECT` part of the query for precise grouping.\\n4. Checked against unnecessary operations and retained necessary operations for efficient execution utilizing existing indexing.\", 'time': 5.428703546524048}, {'query': \"```sql\\nSELECT COUNT(*) \\nFROM Track \\nWHERE GenreId = (SELECT GenreId FROM Genre WHERE Name = 'Rock')\\n```\", 'time': 1.2251226902008057}, {'query': \"```sql\\n-- Rewritten query leveraging index on Track.GenreId for improved efficiency\\nSELECT COUNT(*) \\nFROM Track \\nWHERE GenreId = (SELECT GenreId FROM Genre WHERE Name = 'Rock');\\n```\", 'time': 1.5060148239135742}, {'query': \"```sql\\n-- Optimized query for calculating the average unit price of tracks in the Jazz genre\\nSELECT AVG(T.UnitPrice) \\nFROM Track AS T \\nJOIN Genre AS G ON T.GenreId = G.GenreId \\nWHERE G.Name = 'Jazz';\\n```\", 'time': 3.184544324874878}, {'query': \"```sql\\n-- Optimized query for finding the average unit price of jazz tracks\\nSELECT AVG(UnitPrice) AS AverageUnitPrice\\nFROM Track \\nJOIN Genre \\n  ON Genre.GenreId = Track.GenreId\\nWHERE Genre.Name = 'Jazz';\\n```\", 'time': 2.2855770587921143}, {'query': '```sql\\n-- The query is already efficient and simple with a direct WHERE clause filtering on indexed column \"Email\".\\nSELECT FirstName, LastName FROM Customer WHERE Email = \\'luisg@embraer.com.br\\';\\n```', 'time': 2.0526986122131348}, {'query': \"```sql\\n-- Using an index on the `Email` field if available would speed up the query. The original query is already efficient given it directly accesses the relevant row through the indexed field.\\n\\nSELECT FirstName, LastName FROM Customer WHERE Email = 'luisg@embraer.com.br';\\n```\\n\\nThis query directly targets the `Email` column which should ideally be indexed, especially in a customer-oriented database for quick lookup based on customer contact information. If the `Email` field is not already indexed, considering its use for lookup, adding an index would be beneficial:\\n```sql\\nCREATE INDEX IF NOT EXISTS IDX_CustomerEmail ON Customer(Email);\\n```\", 'time': 5.136552572250366}, {'query': \"```sql\\nSELECT COUNT(*) FROM Customer WHERE Email LIKE '%gmail.com%'\\n```\", 'time': 1.0757207870483398}, {'query': \"```sql\\n-- Optimized Rewritten SQL Query\\n-- There are no obvious inefficiencies in the original query. The use of LIKE and wildcard '%' at both ends prevents any gain from using indexes directly on the Email column. However, it’s a straightforward query without any unnecessary joins or subqueries, which would not benefit further from optimizations given the existing schema and constraints.\\nSELECT COUNT(*) FROM Customer WHERE Email LIKE '%gmail.com%'\\n```\", 'time': 3.345667839050293}, {'query': \"```sql\\n-- Using explicit join types and proper aliasing can make the query clearer\\n-- and potentially more efficient for some SQL engines\\nSELECT e.FirstName, e.LastName\\nFROM Customer AS c\\nJOIN Employee AS e ON c.SupportRepId = e.EmployeeId\\nWHERE c.FirstName = 'Leonie';\\n```\", 'time': 2.3309061527252197}, {'query': \"```sql\\nSELECT e.FirstName, e.LastName \\nFROM Customer c \\nJOIN Employee e ON c.SupportRepId = e.EmployeeId \\nWHERE c.FirstName = 'Leonie';\\n```\", 'time': 2.213239908218384}, {'query': \"```sql\\n-- Using explicit INNER JOIN for clarity and leveraging indexed columns for join and where clause\\nSELECT E.City \\nFROM Customer C \\nINNER JOIN Employee E ON C.SupportRepId = E.EmployeeId \\nWHERE C.PostalCode = '70174';\\n```\", 'time': 2.2686285972595215}, {'query': \"```sql\\n-- Optimized query for chinook database to find cities of employees who support customers with postal code 70174\\nSELECT DISTINCT e.City \\nFROM Employee e \\nJOIN Customer c ON e.EmployeeId = c.SupportRepId \\nWHERE c.PostalCode = '70174'\\n```\", 'time': 2.4898688793182373}, {'query': \"The provided query is already optimized for the specific task of counting distinct cities where employees live. There is no redundant data retrieval or unnecessary joins that could be eliminated to improve the performance. Furthermore, as the operation is on the direct attribute 'city' of the 'Employee' table and involves a counting of distinct values, additional indexing specifically for this query is not generally applicable unless the dataset is extremely large and query performance analysis suggests a benefit from indexing on the 'city' column.\\n\\nThe restructured query remains:\\n```sql\\nSELECT COUNT(DISTINCT city) FROM Employee;\\n```\\n\\nThis query efficiently uses the `COUNT(DISTINCT ...)` aggregation directly on the desired column, making use of any existing optimizations within the SQL database for handling such aggregations.\", 'time': 5.052327394485474}, {'query': '```sql\\nSELECT COUNT(DISTINCT City) FROM Employee;\\n```', 'time': 2.013129472732544}, {'query': '```sql\\nSELECT i.InvoiceDate \\nFROM Customer AS c \\nJOIN Invoice AS i ON c.CustomerId = i.CustomerId \\nWHERE c.FirstName = \\'Astrid\\' AND c.LastName = \\'Gruber\\';\\n```\\nThe query has been optimized by using abbreviations \"c\" and \"i\" for table aliases to improve readability while ensuring the correct scoped referencing of column names (`c.LastName` instead of just `LastName`). Additionally, using capitalization consistent with the SQL conventions improves readability, though this does not impact performance. The generated SQL ensures that only the necessary columns (just `InvoiceDate` from `Invoice`) are selected given the constraints provided, optimizing the execution. The JOIN operation efficiently makes use of indexed columns via foreign keys.', 'time': 5.055788516998291}, {'query': \"```sql\\nSELECT i.InvoiceDate \\nFROM Customer c \\nJOIN Invoice i ON c.CustomerId = i.CustomerId \\nWHERE c.FirstName = 'Astrid' AND c.LastName = 'Gruber';\\n```\", 'time': 1.8347485065460205}, {'query': '```sql\\n-- Optimized query to find all the customer last names that do not have invoice totals larger than 20\\nSELECT LastName \\nFROM Customer\\nWHERE CustomerId NOT IN (\\n    SELECT CustomerId \\n    FROM Invoice \\n    WHERE Total > 20\\n)\\n```', 'time': 2.0853512287139893}, {'query': '```sql\\n-- Optimized query using NOT EXISTS to check exclusion based on the condition directly\\nSELECT LastName \\nFROM Customer \\nWHERE NOT EXISTS (\\n    SELECT 1 \\n    FROM Invoice\\n    WHERE Customer.CustomerId = Invoice.CustomerId \\n    AND Invoice.Total > 20\\n);\\n```', 'time': 2.5799903869628906}, {'query': \"```sql\\n-- Optimized SQL query leveraging indexing and filtering early in the JOIN\\nSELECT DISTINCT c.FirstName\\nFROM Customer AS c\\nINNER JOIN Invoice AS i ON c.CustomerId = i.CustomerId\\nWHERE c.Country = 'Brazil';\\n``` \\n\\nThis optimized query maintains the intent of the original query, utilizing available indices on `CustomerId` in both `Customer` and `Invoice` tables for faster join operations. The filtering by country is directly applied in the WHERE clause to narrow down results early in the execution.\", 'time': 3.576761245727539}, {'query': \"```sql\\n-- Optimized Query for better JOIN performance and ensuring correct use of indexing on joined columns\\nSELECT DISTINCT C.FirstName\\nFROM Customer AS C\\nINNER JOIN Invoice AS I ON C.CustomerId = I.CustomerId\\nWHERE C.Country = 'Brazil';\\n```\", 'time': 1.9802377223968506}, {'query': \"```sql\\n-- Optimized SQL using correct casing and leveraging the indexing on foreign keys\\nSELECT DISTINCT Customer.Address \\nFROM Customer \\nJOIN Invoice \\nON Customer.CustomerId = Invoice.CustomerId \\nWHERE Customer.Country = 'Germany';\\n```\", 'time': 1.863839864730835}, {'query': \"```sql\\n-- The provided query can be optimized by leveraging the indexing on the CustomerId in both the Customer and Invoice tables to speed up the join operation.\\n-- Additionally, since the DISTINCT keyword can add overhead by checking for duplicate addresses, it might be beneficial to evaluate if duplicates\\n-- can occur and possibly whether they could be avoided by a logical understanding of the database or context. However, without such specifics,\\n-- the DISTINCT operation remains.\\n\\nSELECT DISTINCT c.Address \\nFROM Customer AS c \\nJOIN Invoice AS i ON c.CustomerId = i.CustomerId \\nWHERE c.Country = 'Germany';\\n```\", 'time': 5.224724292755127}, {'query': '```sql\\nSELECT Phone FROM Employee;\\n```', 'time': 0.9214348793029785}, {'query': '```sql\\nSELECT Phone FROM Employee;\\n```', 'time': 0.9232032299041748}, {'query': \"```sql\\n-- Optimize the query by utilizing the created index on MediaTypeId. \\n-- Avoid using alias names that do not meaningfully describe the table or its contents.\\n-- No additional indices are added beyond provided schema, and indexes are efficiently used.\\n\\nSELECT COUNT(*) \\nFROM MediaType \\nJOIN Track ON MediaType.MediaTypeId = Track.MediaTypeId \\nWHERE MediaType.Name = 'AAC audio file';\\n```\", 'time': 3.9864962100982666}, {'query': '```sql\\n-- Optimized query to count the number of tracks for the \"AAC audio file\" media type.\\nSELECT COUNT(*) \\nFROM Track AS T \\nJOIN MediaType AS M ON T.MediaTypeId = M.MediaTypeId\\nWHERE M.Name = \\'AAC audio file\\';\\n```', 'time': 2.37111496925354}, {'query': \"```sql\\nSELECT AVG(t.Milliseconds) \\nFROM Track t\\nJOIN Genre g ON t.GenreId = g.GenreId \\nWHERE g.Name IN ('Latin', 'Pop')\\n```\\n\\n### Optimization Details:\\n- **Simplification of WHERE Clause:** The original query's WHERE clause used two separate conditions connected by OR to filter 'Latin' or 'Pop'. The optimized query uses SQL's `IN` syntax, which is generally more efficient and concise when checking for equality against multiple values.\\n- **Join Order & Selection:** The original query first references the Genre table (`T1`) and then the Track table (`T2`). This order is maintained but with more readable aliases (`t` for Track and `g` for Genre), ensuring that the intent remains clear and indices, if existing such as `IFK_TrackGenreId`, would be effectively used. This ordering ensures optimal use of already constructed indexes on `GenreId` columns in both tables.\", 'time': 6.5918238162994385}, {'query': \"```sql\\n-- Optimized query by using an IN clause instead of multiple OR conditions\\nSELECT AVG(Milliseconds) \\nFROM Genre \\nJOIN Track ON Genre.GenreId = Track.GenreId \\nWHERE Genre.Name IN ('Latin', 'Pop');\\n```\", 'time': 2.1370699405670166}, {'query': '```sql\\n-- Optimized Query: Joining Customer to Employee on SupportRepId, selecting Employee details, grouping by EmployeeId to aggregate customer count per employee, specifically targeting employees supporting ≥10 customers.\\nSELECT E.FirstName, E.EmployeeId\\nFROM Employee E \\nJOIN Customer C ON E.EmployeeId = C.SupportRepId\\nGROUP BY E.EmployeeId, E.FirstName\\nHAVING COUNT(*) >= 10\\n```', 'time': 3.5309629440307617}, {'query': '```sql\\n-- Optimized query focuses on improved readability and accurate aliasing\\nSELECT E.FirstName, C.SupportRepId \\nFROM Employee E\\nJOIN Customer C ON C.SupportRepId = E.EmployeeId \\nGROUP BY C.SupportRepId, E.FirstName \\nHAVING COUNT(*) >= 10;\\n```', 'time': 2.4289944171905518}, {'query': '```sql\\n-- This query optimally retrieves last names of employees who serve no more than 20 customers\\nSELECT E.LastName \\nFROM Employee E\\nJOIN Customer C ON E.EmployeeId = C.SupportRepId\\nGROUP BY E.EmployeeId\\nHAVING COUNT(C.CustomerId) <= 20\\n```', 'time': 2.9613118171691895}, {'query': \"```sql\\n-- We optimize the query by grouping on EmployeeId instead of Customer.SupportRepId since they should be equivalent\\n-- Also, explicitly select the LastName from the Employee table to reflect that we are interested in the employee details and not the customer's.\\n-- This expresses the intent of the query more accurately and may utilize indexes better, especially on the Employee table.\\n\\nSELECT E.LastName\\nFROM Employee E\\nJOIN Customer C ON C.SupportRepId = E.EmployeeId\\nGROUP BY E.EmployeeId, E.LastName -- grouping by both to satisfy some SQL flavors' requirements\\nHAVING COUNT(*) <= 20\\n```\", 'time': 4.918735027313232}, {'query': '```sql\\n-- This query is already optimized as it directly fetches and sorts the desired column from the Album table.\\nSELECT Title FROM Album ORDER BY Title;\\n```', 'time': 1.5625190734863281}, {'query': '```sql\\n-- The original query is already efficient for the requested operation\\nSELECT Title FROM Album ORDER BY Title;\\n```', 'time': 1.0669353008270264}, {'query': \"```sql\\n-- Optimized SQL query using logic grouping and indexing\\nSELECT \\n    Artist.Name, \\n    Album.ArtistId \\nFROM \\n    Album \\nJOIN \\n    Artist \\nON \\n    Album.ArtistId = Artist.ArtistId \\nGROUP BY \\n    Album.ArtistId, \\n    Artist.Name  -- added Artist.Name in GROUP BY clause for compatibility\\nHAVING \\n    COUNT(*) >= 3 \\nORDER BY \\n    Artist.Name ASC;\\n``` \\n\\nThis optimized version ensures proper utilization of indexed columns and adheres to SQL best practices by including all non-aggregated columns in the GROUP BY clause, necessary for some SQL RDBMS like PostgreSQL. It effectively retains the query's original intention and leverages indices effectively.\\n\\n\", 'time': 4.838292121887207}, {'query': '```sql\\nSELECT a.Name, a.ArtistId\\nFROM Artist AS a\\nJOIN Album AS b ON a.ArtistId = b.ArtistId\\nGROUP BY a.ArtistId, a.Name\\nHAVING COUNT(*) >= 3\\nORDER BY a.Name;\\n```', 'time': 2.3916127681732178}, {'query': '```sql\\n-- Optimized query leveraging LEFT JOIN and WHERE to identify artists without albums\\nSELECT a.Name \\nFROM Artist AS a \\nLEFT JOIN Album AS al ON a.ArtistId = al.ArtistId \\nWHERE al.AlbumId IS NULL;\\n```', 'time': 2.093991756439209}, {'query': '```sql\\n-- Optimized query using LEFT JOIN and IS NULL to directly identify artists without any albums\\nSELECT a.Name \\nFROM Artist a \\nLEFT JOIN Album al ON a.ArtistId = al.ArtistId\\nWHERE al.AlbumId IS NULL;\\n```', 'time': 1.9131267070770264}, {'query': \"```sql\\n-- Optimized query for calculating the average unit price of rock tracks\\nSELECT AVG(t.UnitPrice) \\nFROM Track t \\nJOIN Genre g ON t.GenreId = g.GenreId \\nWHERE g.Name = 'Rock';\\n```\", 'time': 2.1128227710723877}, {'query': \"```sql\\n-- db_id: chinook_1\\n-- Optimized query for finding the average unit price of tracks from the Rock genre\\nSELECT AVG(t.UnitPrice) \\nFROM Track t \\nJOIN Genre g ON t.GenreId = g.GenreId \\nWHERE g.Name = 'Rock';\\n```\", 'time': 2.0890655517578125}, {'query': \"```sql\\n-- Optimized query to find the duration of the longest and shortest pop tracks in milliseconds\\nSELECT MAX(t.Milliseconds) AS LongestDuration, MIN(t.Milliseconds) AS ShortestDuration\\nFROM Genre g\\nJOIN Track t ON g.GenreId = t.GenreId\\nWHERE g.Name = 'Pop';\\n```\", 'time': 2.657819986343384}, {'query': \"```sql\\nSELECT MAX(t.Milliseconds) AS MaxMilliseconds, MIN(t.Milliseconds) AS MinMilliseconds\\nFROM Track t\\nJOIN Genre g ON t.GenreId = g.GenreId\\nWHERE g.Name = 'Pop';\\n```\", 'time': 3.6257946491241455}, {'query': \"```sql\\nSELECT BirthDate FROM Employee WHERE City = 'Edmonton'\\n```\", 'time': 1.4664347171783447}, {'query': \"```sql\\nSELECT BirthDate FROM Employee WHERE City = 'Edmonton'\\n```\", 'time': 0.988084077835083}, {'query': '```sql\\nSELECT DISTINCT UnitPrice FROM Track;\\n```', 'time': 1.065312147140503}, {'query': '```sql\\n-- Input query is already optimal as it is performing a distinct selection on a single column.\\nSELECT DISTINCT UnitPrice FROM Track;\\n```', 'time': 1.595217227935791}, {'query': '```sql\\n-- Use a left join to get better performance rather than NOT IN subquery, especially with indexes already set up on artistId in both tables.\\nSELECT COUNT(*) FROM Artist LEFT JOIN Album ON Artist.ArtistId = Album.ArtistId WHERE Album.AlbumId IS NULL;\\n```', 'time': 2.312863826751709}, {'query': '```sql\\n-- Optimized version using LEFT JOIN and IS NULL to avoid using NOT IN which can be slow with subqueries\\n\\nSELECT COUNT(*) \\nFROM Artist AS a \\nLEFT JOIN Album AS al ON a.ArtistId = al.ArtistId \\nWHERE al.AlbumId IS NULL;\\n```', 'time': 2.7834317684173584}, {'query': \"```sql\\nSELECT T1.Title \\nFROM Album AS T1 \\nJOIN Track AS T2 ON T1.AlbumId = T2.AlbumId \\nJOIN Genre AS T3 ON T2.GenreId = T3.GenreId \\nWHERE T3.Name IN ('Reggae', 'Rock')\\nGROUP BY T1.Title \\nHAVING COUNT(DISTINCT T3.Name) = 2\\n```\\nThis query joins the Album, Track, and Genre tables optimally, grouping album titles and filtering to include only those that span exactly the two required genres: 'Reggae' and 'Rock'. This approach avoids the complexity and potential inefficiency of an INTERSECT operation.\", 'time': 5.369222164154053}, {'query': \"```sql\\nSELECT T1.Title \\nFROM Album AS T1 \\nJOIN Track AS T2 ON T1.AlbumId = T2.AlbumId \\nJOIN Genre AS T3 ON T2.GenreId = T3.GenreId\\nWHERE T3.Name = 'Reggae'\\nAND EXISTS (\\n    SELECT 1 \\n    FROM Track AS T4\\n    JOIN Genre AS T5 ON T4.GenreId = T5.GenreId\\n    WHERE T5.Name = 'Rock' \\n    AND T4.AlbumId = T1.AlbumId\\n)\\n```\\n\\nThis optimized SQL query eliminates the use of `INTERSECT` by introducing a correlated `EXISTS` subquery which performs better by leveraging indexes and halting the search at the first match for rock tracks in the same album. This avoids fully scanning and comparing two result sets as in the original query.\", 'time': 6.56374454498291}]\n"
     ]
    }
   ],
   "source": [
    "print(rewritten_query)"
   ]
  },
  {
   "cell_type": "code",
   "execution_count": 87,
   "metadata": {},
   "outputs": [
    {
     "name": "stdout",
     "output_type": "stream",
     "text": [
      "['0.9448933601379395', '1.0810391902923584', '0.7855658531188965', '0.8057162761688232', '1.9828109741210938', '5.312546968460083', '2.0877981185913086', '3.0138165950775146', '1.160654067993164', '0.9204404354095459', '1.7673060894012451', '2.397291898727417', '2.021507740020752', '1.8902297019958496', '1.7414500713348389', '1.9556527137756348', '1.8531734943389893', '1.6168813705444336', '3.49963641166687', '3.525038719177246', '2.1889007091522217', '4.901218414306641', '0.7873749732971191', '1.3572328090667725', '1.916416883468628', '1.3852901458740234', '4.976027965545654', '1.7798502445220947', '2.666826009750366', '2.7064032554626465', '4.830986261367798', '2.918207883834839', '6.106687068939209', '5.428703546524048', '1.2251226902008057', '1.5060148239135742', '3.184544324874878', '2.2855770587921143', '2.0526986122131348', '5.136552572250366', '1.0757207870483398', '3.345667839050293', '2.3309061527252197', '2.213239908218384', '2.2686285972595215', '2.4898688793182373', '5.052327394485474', '2.013129472732544', '5.055788516998291', '1.8347485065460205', '2.0853512287139893', '2.5799903869628906', '3.576761245727539', '1.9802377223968506', '1.863839864730835', '5.224724292755127', '0.9214348793029785', '0.9232032299041748', '3.9864962100982666', '2.37111496925354', '6.5918238162994385', '2.1370699405670166', '3.5309629440307617', '2.4289944171905518', '2.9613118171691895', '4.918735027313232', '1.5625190734863281', '1.0669353008270264', '4.838292121887207', '2.3916127681732178', '2.093991756439209', '1.9131267070770264', '2.1128227710723877', '2.0890655517578125', '2.657819986343384', '3.6257946491241455', '1.4664347171783447', '0.988084077835083', '1.065312147140503', '1.595217227935791', '2.312863826751709', '2.7834317684173584', '5.369222164154053', '6.56374454498291']\n"
     ]
    }
   ],
   "source": [
    "times = [str(x['time']) for x in rewritten_query]\n",
    "print(times)"
   ]
  },
  {
   "cell_type": "code",
   "execution_count": 88,
   "metadata": {},
   "outputs": [],
   "source": [
    "with open(\"./times.txt\", \"w\", encoding=\"utf-8\") as f:\n",
    "    f.write(\"\\n\".join(times))"
   ]
  },
  {
   "cell_type": "code",
   "execution_count": 89,
   "metadata": {},
   "outputs": [],
   "source": [
    "def extract_sql_blocks(text):\n",
    "    # ```sql ... ``` 사이의 텍스트를 추출하는 정규표현식 패턴\n",
    "    pattern = r\"```sql\\s(.*?)```\"\n",
    "    # 패턴과 일치하는 모든 텍스트를 리스트로 반환\n",
    "    sql_blocks = re.findall(pattern, text, re.DOTALL)\n",
    "    return sql_blocks"
   ]
  },
  {
   "cell_type": "code",
   "execution_count": 90,
   "metadata": {},
   "outputs": [
    {
     "name": "stderr",
     "output_type": "stream",
     "text": [
      "100%|██████████| 84/84 [00:00<00:00, 1426.03it/s]\n"
     ]
    }
   ],
   "source": [
    "for i in tqdm(QUERY_RANGE):\n",
    "    query = rewritten_query[i]['query']\n",
    "    \n",
    "    extracted_query = extract_sql_blocks(query)\n",
    "\n",
    "    with open(f\"./gpt4_rewrite_queries/{i}.sql\", \"w\", encoding=\"utf-8\") as f:\n",
    "        f.write(extracted_query[0])"
   ]
  },
  {
   "cell_type": "code",
   "execution_count": null,
   "metadata": {},
   "outputs": [],
   "source": []
  }
 ],
 "metadata": {
  "kernelspec": {
   "display_name": "Python 3",
   "language": "python",
   "name": "python3"
  },
  "language_info": {
   "codemirror_mode": {
    "name": "ipython",
    "version": 3
   },
   "file_extension": ".py",
   "mimetype": "text/x-python",
   "name": "python",
   "nbconvert_exporter": "python",
   "pygments_lexer": "ipython3",
   "version": "3.10.12"
  },
  "orig_nbformat": 4
 },
 "nbformat": 4,
 "nbformat_minor": 2
}
