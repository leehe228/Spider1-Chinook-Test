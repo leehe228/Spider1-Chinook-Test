{
 "cells": [
  {
   "cell_type": "code",
   "execution_count": 18,
   "metadata": {},
   "outputs": [],
   "source": [
    "import pandas as pd\n",
    "import os"
   ]
  },
  {
   "cell_type": "code",
   "execution_count": 19,
   "metadata": {},
   "outputs": [],
   "source": [
    "def compare_csv_folders(folder1, folder2):\n",
    "    comparison_results = []\n",
    "\n",
    "    for i in range(84):\n",
    "        file_name = f\"{i}.csv\"\n",
    "        file_path1 = os.path.join(folder1, file_name)\n",
    "        file_path2 = os.path.join(folder2, file_name)\n",
    "\n",
    "        # 두 파일을 읽어 DataFrame 생성\n",
    "        try:\n",
    "            df1 = pd.read_csv(file_path1)\n",
    "            df2 = pd.read_csv(file_path2)\n",
    "            \n",
    "            # DataFrame 정렬 후 비교\n",
    "            df1_sorted = df1.sort_index(axis=0).sort_index(axis=1)\n",
    "            df2_sorted = df2.sort_index(axis=0).sort_index(axis=1)\n",
    "            \n",
    "            # 일치 여부 확인\n",
    "            if df1_sorted.equals(df2_sorted):\n",
    "                comparison_results.append(1)\n",
    "            else:\n",
    "                comparison_results.append(0)\n",
    "        except FileNotFoundError:\n",
    "            print(f\"One of the files {file_name} is missing in the folders.\")\n",
    "            comparison_results.append(-1)  # 파일이 없으면 다르다고 처리\n",
    "\n",
    "    return comparison_results"
   ]
  },
  {
   "cell_type": "code",
   "execution_count": 20,
   "metadata": {},
   "outputs": [],
   "source": [
    "original_folder = \"/home/work/hoeun/spider1/chinook_queries/\"\n",
    "gpt4o_folder = \"/home/work/hoeun/spider1/gpt4o_rewrite_queries/\"\n",
    "gpt4_folder = \"/home/work/hoeun/spider1/gpt4_rewrite_queries/\""
   ]
  },
  {
   "cell_type": "code",
   "execution_count": 21,
   "metadata": {},
   "outputs": [
    {
     "name": "stdout",
     "output_type": "stream",
     "text": [
      "One of the files 26.csv is missing in the folders.\n",
      "One of the files 27.csv is missing in the folders.\n",
      "One of the files 28.csv is missing in the folders.\n",
      "One of the files 29.csv is missing in the folders.\n",
      "One of the files 30.csv is missing in the folders.\n",
      "One of the files 31.csv is missing in the folders.\n",
      "One of the files 32.csv is missing in the folders.\n",
      "One of the files 33.csv is missing in the folders.\n",
      "One of the files 62.csv is missing in the folders.\n",
      "One of the files 63.csv is missing in the folders.\n",
      "One of the files 64.csv is missing in the folders.\n",
      "One of the files 65.csv is missing in the folders.\n",
      "One of the files 68.csv is missing in the folders.\n",
      "One of the files 69.csv is missing in the folders.\n"
     ]
    }
   ],
   "source": [
    "result = compare_csv_folders(folder1=original_folder, folder2=gpt4_folder)"
   ]
  },
  {
   "cell_type": "code",
   "execution_count": 15,
   "metadata": {},
   "outputs": [],
   "source": [
    "str_result = list(map(str, result))"
   ]
  },
  {
   "cell_type": "code",
   "execution_count": 17,
   "metadata": {},
   "outputs": [],
   "source": [
    "with open(\"./compare_result.txt\", \"w\", encoding=\"utf-8\") as f:\n",
    "    f.write(\"\\n\".join(str_result))"
   ]
  },
  {
   "cell_type": "code",
   "execution_count": null,
   "metadata": {},
   "outputs": [],
   "source": []
  }
 ],
 "metadata": {
  "kernelspec": {
   "display_name": "Python 3",
   "language": "python",
   "name": "python3"
  },
  "language_info": {
   "codemirror_mode": {
    "name": "ipython",
    "version": 3
   },
   "file_extension": ".py",
   "mimetype": "text/x-python",
   "name": "python",
   "nbconvert_exporter": "python",
   "pygments_lexer": "ipython3",
   "version": "3.10.12"
  }
 },
 "nbformat": 4,
 "nbformat_minor": 2
}
