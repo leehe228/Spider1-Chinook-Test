{
 "cells": [
  {
   "cell_type": "code",
   "execution_count": 17,
   "metadata": {},
   "outputs": [],
   "source": [
    "import pandas as pd\n",
    "import re\n",
    "import os"
   ]
  },
  {
   "cell_type": "code",
   "execution_count": 28,
   "metadata": {},
   "outputs": [],
   "source": [
    "directory = \"/home/work/hoeun/spider1/chinook_queries/\""
   ]
  },
  {
   "cell_type": "code",
   "execution_count": 29,
   "metadata": {},
   "outputs": [],
   "source": [
    "# 각 파일을 처리하는 함수\n",
    "def process_out_file(file_path, idx):\n",
    "    with open(file_path, 'r') as file:\n",
    "        data = file.read().strip()\n",
    "    \n",
    "    # 데이터가 비어 있지 않은지 확인\n",
    "    if not data:\n",
    "        print(f\"No data in {file_path}\")\n",
    "        return\n",
    "    \n",
    "    # 첫 줄을 헤더로, 나머지를 데이터 행으로 처리\n",
    "    lines = data.splitlines()\n",
    "    columns = [col.strip() for col in lines[0].split('|')]\n",
    "    rows_data = []\n",
    "\n",
    "    for row in lines[1:]:\n",
    "        # 빈 값은 None으로 처리하여 pandas가 빈 값으로 인식하게 함\n",
    "        row_values = [val.strip() if val.strip() else None for val in row.split('|')]\n",
    "        if len(row_values) == len(columns):\n",
    "            rows_data.append(row_values)\n",
    "        else:\n",
    "            print(f\"Skipping inconsistent row in {file_path}: {row}\")\n",
    "\n",
    "    # 일관된 행 데이터가 있을 때만 DataFrame 생성 및 CSV 저장\n",
    "    if rows_data:\n",
    "        df = pd.DataFrame(rows_data, columns=columns)\n",
    "        output_csv_path = f\"{idx}.csv\"\n",
    "        df.to_csv(os.path.join(directory, output_csv_path), index=False, na_rep='')"
   ]
  },
  {
   "cell_type": "code",
   "execution_count": 30,
   "metadata": {},
   "outputs": [
    {
     "name": "stdout",
     "output_type": "stream",
     "text": [
      "No data in /home/work/hoeun/spider1/chinook_queries/26.out\n",
      "No data in /home/work/hoeun/spider1/chinook_queries/27.out\n",
      "No data in /home/work/hoeun/spider1/chinook_queries/28.out\n",
      "No data in /home/work/hoeun/spider1/chinook_queries/29.out\n",
      "No data in /home/work/hoeun/spider1/chinook_queries/30.out\n",
      "No data in /home/work/hoeun/spider1/chinook_queries/31.out\n",
      "No data in /home/work/hoeun/spider1/chinook_queries/32.out\n",
      "No data in /home/work/hoeun/spider1/chinook_queries/33.out\n",
      "No data in /home/work/hoeun/spider1/chinook_queries/62.out\n",
      "No data in /home/work/hoeun/spider1/chinook_queries/63.out\n",
      "No data in /home/work/hoeun/spider1/chinook_queries/64.out\n",
      "No data in /home/work/hoeun/spider1/chinook_queries/65.out\n",
      "No data in /home/work/hoeun/spider1/chinook_queries/68.out\n",
      "No data in /home/work/hoeun/spider1/chinook_queries/69.out\n"
     ]
    }
   ],
   "source": [
    "# 0부터 83까지 반복\n",
    "for x in range(84):\n",
    "    file_path = os.path.join(directory, f\"{x}.out\")\n",
    "    process_out_file(file_path, x)"
   ]
  },
  {
   "cell_type": "code",
   "execution_count": null,
   "metadata": {},
   "outputs": [],
   "source": []
  }
 ],
 "metadata": {
  "kernelspec": {
   "display_name": "Python 3",
   "language": "python",
   "name": "python3"
  },
  "language_info": {
   "codemirror_mode": {
    "name": "ipython",
    "version": 3
   },
   "file_extension": ".py",
   "mimetype": "text/x-python",
   "name": "python",
   "nbconvert_exporter": "python",
   "pygments_lexer": "ipython3",
   "version": "3.10.12"
  }
 },
 "nbformat": 4,
 "nbformat_minor": 2
}
